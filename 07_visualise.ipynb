{
 "cells": [
  {
   "cell_type": "markdown",
   "id": "5442d0fe-541d-44c3-9c4f-9d2d55390e87",
   "metadata": {},
   "source": [
    "# Compare plots\n",
    "\n",
    "loads old and new csv  and compares them visually"
   ]
  },
  {
   "cell_type": "code",
   "execution_count": null,
   "id": "6124feda-fef3-4e85-a900-76c6010abef7",
   "metadata": {},
   "outputs": [],
   "source": [
    "import boto3\n",
    "import pandas as pd\n",
    "from io import StringIO\n",
    "\n",
    "import sys\n",
    "\n",
    "sys.path.insert(1, \"../Tools/\")\n",
    "import dea_tools.wetlands\n"
   ]
  },
  {
   "cell_type": "code",
   "execution_count": null,
   "id": "b7bf1859-5750-41bb-a606-61ffeb290268",
   "metadata": {},
   "outputs": [],
   "source": [
    "def load_csv_from_s3(bucket, key):\n",
    "    s3 = boto3.client('s3')\n",
    "    response = s3.get_object(Bucket=bucket, Key=key)\n",
    "    return pd.read_csv(StringIO(response['Body'].read().decode('utf-8')))"
   ]
  },
  {
   "cell_type": "code",
   "execution_count": null,
   "id": "cff7cc2e-3084-4970-800d-e093d8b49c0f",
   "metadata": {},
   "outputs": [],
   "source": [
    "def compare_wit_outputs(polygon):\n",
    "    # AWS S3 client\n",
    "    s3 = boto3.client('s3')\n",
    "    \n",
    "    # S3 path config\n",
    "    bucket = \"dea-public-data-dev\"\n",
    "    base_path_old = \"projects/WIT/MDBA_ANAE_WIT_MH_18_04_2025/historic_data\"\n",
    "    base_path_new = \"projects/WIT/MDBA_ANAE_WIT_MH_18_04_2025/merged\"\n",
    "    \n",
    "    # load and process the old dataset\n",
    "    old = load_csv_from_s3(bucket, f\"{base_path_old}/{polygon}.csv\")\n",
    "    old = old.rename(columns={'time': 'date'})\n",
    "    # Convert 'date' column from offset-aware to naive datetimes to avoid comparison error (TypeError).\n",
    "    old['date'] = pd.to_datetime(old['date']).dt.tz_localize(None)\n",
    "    old_name = f'OLD {polygon}'\n",
    "    old = dea_tools.wetlands.normalise_wit(old)\n",
    "\n",
    "    # load and process the new dataset\n",
    "    new = load_csv_from_s3(bucket, f\"{base_path_new}/{polygon}.csv\")\n",
    "    new = new.rename(columns={'time': 'date'})\n",
    "    # Convert 'date' column from offset-aware to naive datetimes to avoid comparison error (TypeError).\n",
    "    new['date'] = pd.to_datetime(new['date']).dt.tz_localize(None)\n",
    "    new_name = f'NEW {polygon}'\n",
    "    new = dea_tools.wetlands.normalise_wit(new)\n",
    "\n",
    "    dea_tools.wetlands.display_wit_stack_with_df(old, old_name, polygon, x_axis_labels=\"years\")\n",
    "    dea_tools.wetlands.display_wit_stack_with_df(new, new_name, polygon, x_axis_labels=\"years\")"
   ]
  },
  {
   "cell_type": "code",
   "execution_count": null,
   "id": "49241d7c-f14e-4ae1-9a6d-1daed747fdc7",
   "metadata": {},
   "outputs": [],
   "source": [
    "compare_wit_outputs('r3bz75m73')"
   ]
  },
  {
   "cell_type": "code",
   "execution_count": null,
   "id": "07545f4e-549a-4331-96b1-0a91d616a766",
   "metadata": {},
   "outputs": [],
   "source": [
    "compare_wit_outputs('r1dtvqu5m')"
   ]
  },
  {
   "cell_type": "code",
   "execution_count": null,
   "id": "a81e09d8-5c79-47d0-a59e-c5c4e3b9cb3c",
   "metadata": {},
   "outputs": [],
   "source": [
    "compare_wit_outputs('r1gw06cdz')"
   ]
  },
  {
   "cell_type": "code",
   "execution_count": null,
   "id": "fcf0c743-a6a1-4739-9613-7d1bd0bb34e6",
   "metadata": {},
   "outputs": [],
   "source": [
    "compare_wit_outputs('r1g727wce')"
   ]
  },
  {
   "cell_type": "code",
   "execution_count": null,
   "id": "9d0fddc6-fbbc-42d9-805f-abc84ac58981",
   "metadata": {},
   "outputs": [],
   "source": []
  },
  {
   "cell_type": "code",
   "execution_count": null,
   "id": "d4eaeff8-f801-46d3-95de-c67120b1b4cf",
   "metadata": {},
   "outputs": [],
   "source": [
    "def one_plot(filepath):\n",
    "    \n",
    "    # Load and process the old dataset\n",
    "    old = pd.read_csv(filepath)\n",
    "    old = old.rename(columns={'time': 'date'})\n",
    "    # Convert 'date' column from offset-aware to naive datetimes to avoid comparison error (TypeError).\n",
    "    old['date'] = pd.to_datetime(old['date']).dt.tz_localize(None)\n",
    "    old = dea_tools.wetlands.normalise_wit(old)\n",
    "\n",
    "    # Display the WIT stack for both old and new datasets\n",
    "    dea_tools.wetlands.display_wit_stack_with_df(old, x_axis_labels=\"years\")\n"
   ]
  },
  {
   "cell_type": "code",
   "execution_count": null,
   "id": "96f72376-ba9a-4409-852b-6d2682ae8672",
   "metadata": {},
   "outputs": [],
   "source": [
    "filepath = \"r3bz75m73_full_run_generated_May25.csv\"\n",
    "\n",
    "one_plot(filepath)"
   ]
  },
  {
   "cell_type": "code",
   "execution_count": null,
   "id": "adb67fbe-053b-493a-b2b6-127431ae6024",
   "metadata": {},
   "outputs": [],
   "source": []
  },
  {
   "cell_type": "code",
   "execution_count": null,
   "id": "71a8cb9c-9cb6-44a5-a483-d4cdfa2557ab",
   "metadata": {},
   "outputs": [],
   "source": []
  },
  {
   "cell_type": "code",
   "execution_count": null,
   "id": "9cedf976-da77-4412-b20c-b3f19cab42ec",
   "metadata": {},
   "outputs": [],
   "source": []
  },
  {
   "cell_type": "code",
   "execution_count": null,
   "id": "113264a0-02de-4e3f-aee7-ff346ff3b6f1",
   "metadata": {},
   "outputs": [],
   "source": []
  },
  {
   "cell_type": "code",
   "execution_count": null,
   "id": "64dc2306-f7b7-4aac-bdb7-b712cce9abcf",
   "metadata": {},
   "outputs": [],
   "source": []
  },
  {
   "cell_type": "code",
   "execution_count": null,
   "id": "68619ed2-14f8-412a-a4bd-604df8b0ba52",
   "metadata": {},
   "outputs": [],
   "source": []
  },
  {
   "cell_type": "code",
   "execution_count": null,
   "id": "25f1345a-d809-4497-b2d4-9fc8aea44291",
   "metadata": {},
   "outputs": [],
   "source": []
  },
  {
   "cell_type": "code",
   "execution_count": null,
   "id": "4d7ff5f6-62be-4f6c-91e9-85c9b9ab657c",
   "metadata": {},
   "outputs": [],
   "source": []
  }
 ],
 "metadata": {
  "kernelspec": {
   "display_name": "Python 3 (ipykernel)",
   "language": "python",
   "name": "python3"
  },
  "language_info": {
   "codemirror_mode": {
    "name": "ipython",
    "version": 3
   },
   "file_extension": ".py",
   "mimetype": "text/x-python",
   "name": "python",
   "nbconvert_exporter": "python",
   "pygments_lexer": "ipython3",
   "version": "3.10.15"
  }
 },
 "nbformat": 4,
 "nbformat_minor": 5
}
