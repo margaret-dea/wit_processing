{
 "cells": [
  {
   "cell_type": "markdown",
   "id": "cc2c702e-e5d5-41b3-84ca-a8df26b94e0c",
   "metadata": {},
   "source": [
    "## Unzip the files and send them to an s3 folder"
   ]
  },
  {
   "cell_type": "code",
   "execution_count": null,
   "id": "d71331a7-cd72-465b-ad9e-ac747c3a0de1",
   "metadata": {},
   "outputs": [],
   "source": [
    "import boto3\n",
    "import tempfile\n",
    "import zipfile\n",
    "import io\n",
    "import os\n",
    "import shutil\n",
    "from tqdm import tqdm"
   ]
  },
  {
   "cell_type": "code",
   "execution_count": null,
   "id": "54d1cf19-022c-4ba3-8f4a-43319d4815f1",
   "metadata": {},
   "outputs": [],
   "source": [
    "# [451924316694_DEA-Dev]\n",
    "temp_aws_access_key_id=\"\"\n",
    "temp_aws_secret_access_key=\"\"\n",
    "temp_aws_session_token=\"\""
   ]
  },
  {
   "cell_type": "code",
   "execution_count": null,
   "id": "bc59219b-d55d-4c69-ab5f-3978f5184340",
   "metadata": {},
   "outputs": [],
   "source": [
    "s3 = boto3.client('s3', aws_access_key_id=temp_aws_access_key_id,\n",
    "                      aws_secret_access_key=temp_aws_secret_access_key, \n",
    "                 aws_session_token=temp_aws_session_token)"
   ]
  },
  {
   "cell_type": "code",
   "execution_count": null,
   "id": "cb46cb08-fc5d-409d-a35c-9296db72226a",
   "metadata": {},
   "outputs": [],
   "source": [
    "def upload_file_to_s3(file_path, bucket_name, object_key):\n",
    "    \"\"\"\n",
    "    Upload a file to a specified S3 bucket.\n",
    "\n",
    "    Parameters:\n",
    "    - file_path: The local path to the file you want to upload.\n",
    "    - bucket_name: The name of the S3 bucket.\n",
    "    - object_key: The key (path) under which to store the file in the S3 bucket.\n",
    "    \"\"\"\n",
    "    # # Set your AWS credentials (you can also use environment variables or IAM roles)\n",
    "    # aws_access_key_id = temp_aws_access_key_id\n",
    "    # aws_secret_access_key = temp_aws_secret_access_key\n",
    "    # aws_session_token = temp_aws_session_token\n",
    "    \n",
    "    # # Create an S3 client\n",
    "    # s3 = boto3.client('s3', aws_access_key_id=aws_access_key_id,\n",
    "    #                   aws_secret_access_key=aws_secret_access_key)\n",
    "\n",
    "    # Upload the file\n",
    "    s3.upload_file(file_path, bucket_name, object_key)"
   ]
  },
  {
   "cell_type": "code",
   "execution_count": null,
   "id": "42565f34-5a67-4aa0-859f-2a1adade907f",
   "metadata": {},
   "outputs": [],
   "source": [
    "# this was used to test the upload_file_to_s3 function works\n",
    "# bucket_name = 'dea-public-data-dev'\n",
    "# object_key = 'projects/WIT/MDBA_ANAE_WIT_04_2025/polygon_base_result/test.txt'\n",
    "# upload_file_to_s3('test.txt', bucket_name, object_key)"
   ]
  },
  {
   "cell_type": "code",
   "execution_count": null,
   "id": "3f297acb-0b5b-43ef-badf-7c106f3c43c7",
   "metadata": {},
   "outputs": [],
   "source": [
    "def process_zip_from_s3(zip_filename, source_prefix, destination_prefix, bucket_name):\n",
    "\n",
    "    s3 = boto3.client('s3', aws_access_key_id=temp_aws_access_key_id,\n",
    "                      aws_secret_access_key=temp_aws_secret_access_key, \n",
    "                 aws_session_token=temp_aws_session_token)\n",
    "    \n",
    "    # Temp working dir\n",
    "    temp_dir = tempfile.mkdtemp()\n",
    "    print(f\"Downloading: {source_prefix + zip_filename}\")\n",
    "\n",
    "    try:\n",
    "        # Download the zip file into memory\n",
    "        zip_obj = s3.get_object(Bucket=bucket_name, Key=source_prefix + zip_filename)\n",
    "        buffer = io.BytesIO(zip_obj['Body'].read())\n",
    "\n",
    "        # Extract zip file to temp_dir\n",
    "        with zipfile.ZipFile(buffer) as z:\n",
    "            z.extractall(temp_dir)\n",
    "            print(f\"Extracted {len(z.namelist())} files to temp dir\")\n",
    "\n",
    "        # List all the files to upload\n",
    "        files_to_upload = []\n",
    "        for root, dirs, files in os.walk(temp_dir):\n",
    "            for file in files:\n",
    "                local_path = os.path.join(root, file)\n",
    "                s3_key = destination_prefix + os.path.basename(file)\n",
    "                files_to_upload.append((local_path, s3_key))\n",
    "\n",
    "        # Upload each file to S3 with a progress bar\n",
    "        for local_path, s3_key in tqdm(files_to_upload, desc=\"Uploading files\", unit=\"file\"):\n",
    "            upload_file_to_s3(local_path, bucket_name, s3_key)\n",
    "\n",
    "        print(f\"Done processing: {zip_filename}\")\n",
    "    finally:\n",
    "        # Cleanup\n",
    "        shutil.rmtree(temp_dir)\n",
    "        print(f\"Cleaned up local files for: {zip_filename}\")"
   ]
  },
  {
   "cell_type": "code",
   "execution_count": null,
   "id": "d0ede422-e196-42fa-9d03-2c95602e25ee",
   "metadata": {},
   "outputs": [],
   "source": [
    "zip_filename = 'ANAE_WIT_result_2024_02-part-9.zip'\n",
    "source_prefix = 'projects/WIT/ANAEv3_WIT_result_22022024/'\n",
    "destination_prefix = 'projects/WIT/MDBA_ANAE_WIT_04_2025/polygon_base_result/'\n",
    "bucket_name = 'dea-public-data-dev'\n",
    "\n",
    "process_zip_from_s3(zip_filename, source_prefix, destination_prefix, bucket_name)\n"
   ]
  },
  {
   "cell_type": "code",
   "execution_count": null,
   "id": "b9175508-da84-480c-bdf3-5fa77a2b32f7",
   "metadata": {},
   "outputs": [],
   "source": []
  },
  {
   "cell_type": "code",
   "execution_count": null,
   "id": "171bc122-b903-4bdb-8380-c006f5302c47",
   "metadata": {},
   "outputs": [],
   "source": [
    "# count the number of files in the bucket \n",
    "\n",
    "bucket_name = 'dea-public-data-dev'\n",
    "prefix = 'projects/WIT/MDBA_ANAE_WIT_04_2025/polygon_base_result/'\n",
    "\n",
    "s3 = boto3.client('s3')\n",
    "\n",
    "paginator = s3.get_paginator('list_objects_v2')\n",
    "page_iterator = paginator.paginate(Bucket=bucket_name, Prefix=prefix)\n",
    "\n",
    "count = 0\n",
    "for page in page_iterator:\n",
    "    if 'Contents' in page:\n",
    "        count += len(page['Contents'])\n",
    "\n",
    "print(f\"Total files: {count}\")"
   ]
  },
  {
   "cell_type": "code",
   "execution_count": null,
   "id": "10c7fd1c-d0c2-467f-ba0c-237945fe8a8f",
   "metadata": {},
   "outputs": [],
   "source": [
    "27066+27066+27066+27066+27066+27066+27066+27066+27066+27059"
   ]
  },
  {
   "cell_type": "code",
   "execution_count": null,
   "id": "8d04f162-1fdc-4ae3-b97e-7f57016cced7",
   "metadata": {},
   "outputs": [],
   "source": [
    "# this will look through the folder and find unique file extensions - they should all be csv but sometimes a folder marker might be uploaded or something weird \n",
    "# basically it will help you find the impostor file \n",
    "\n",
    "import boto3\n",
    "import os\n",
    "from collections import Counter\n",
    "\n",
    "def list_s3_file_extensions(bucket_name, prefix):\n",
    "    s3 = boto3.client('s3')\n",
    "    paginator = s3.get_paginator('list_objects_v2')\n",
    "    pages = paginator.paginate(Bucket=bucket_name, Prefix=prefix)\n",
    "\n",
    "    extensions = []\n",
    "\n",
    "    for page in pages:\n",
    "        if 'Contents' in page:\n",
    "            for obj in page['Contents']:\n",
    "                key = obj['Key']\n",
    "                _, ext = os.path.splitext(key)\n",
    "                ext = ext.lower()\n",
    "                extensions.append(ext if ext else '[no extension]')\n",
    "\n",
    "    ext_counts = Counter(extensions)\n",
    "    print(\"🔍 Unique file extensions in S3:\")\n",
    "    for ext, count in ext_counts.items():\n",
    "        print(f\"{ext}: {count}\")\n",
    "\n",
    "# Call the function\n",
    "list_s3_file_extensions(\n",
    "    bucket_name='dea-public-data-dev',\n",
    "    prefix='projects/WIT/MDBA_ANAE_WIT_04_2025/polygon_base_result/'\n",
    ")\n"
   ]
  },
  {
   "cell_type": "code",
   "execution_count": null,
   "id": "d3a9ab78-e7dc-4091-9382-32fbf81f99e7",
   "metadata": {},
   "outputs": [],
   "source": [
    "# this will give you the name of the impostor file \n",
    "\n",
    "import boto3\n",
    "import os\n",
    "\n",
    "def find_files_with_no_extension(bucket_name, prefix):\n",
    "    s3 = boto3.client('s3')\n",
    "    paginator = s3.get_paginator('list_objects_v2')\n",
    "    pages = paginator.paginate(Bucket=bucket_name, Prefix=prefix)\n",
    "\n",
    "    print(\"📁 Files in S3 with NO extension:\")\n",
    "    found = False\n",
    "\n",
    "    for page in pages:\n",
    "        if 'Contents' in page:\n",
    "            for obj in page['Contents']:\n",
    "                key = obj['Key']\n",
    "                _, ext = os.path.splitext(key)\n",
    "                if ext == '':\n",
    "                    print(\"  🔸\", key)\n",
    "                    found = True\n",
    "\n",
    "    if not found:\n",
    "        print(\"✅ None found!\")\n",
    "\n",
    "# Run it\n",
    "find_files_with_no_extension(\n",
    "    bucket_name='dea-public-data-dev',\n",
    "    prefix='projects/WIT/MDBA_ANAE_WIT_04_2025/polygon_base_result/'\n",
    ")\n"
   ]
  }
 ],
 "metadata": {
  "kernelspec": {
   "display_name": "Python 3 (ipykernel)",
   "language": "python",
   "name": "python3"
  },
  "language_info": {
   "codemirror_mode": {
    "name": "ipython",
    "version": 3
   },
   "file_extension": ".py",
   "mimetype": "text/x-python",
   "name": "python",
   "nbconvert_exporter": "python",
   "pygments_lexer": "ipython3",
   "version": "3.10.15"
  }
 },
 "nbformat": 4,
 "nbformat_minor": 5
}
