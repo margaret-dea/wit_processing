{
 "cells": [
  {
   "cell_type": "markdown",
   "id": "5a285798-d1c2-4125-9677-de0142cfbb5a",
   "metadata": {},
   "source": [
    "# Check the shapefile\n",
    "\n",
    "Before running conflux check over the shapefile. \n",
    "Looking for null geometries, invalid geometries, and overlaps in the shapefile.\n",
    "They may run fine through conflux but it helps to check."
   ]
  },
  {
   "cell_type": "code",
   "execution_count": null,
   "id": "bb0a8f7f-dd8e-4f8f-8a71-75e7e1eea7ab",
   "metadata": {},
   "outputs": [],
   "source": [
    "import geopandas as gpd\n",
    "import s3fs\n",
    "from shapely.validation import explain_validity\n",
    "from shapely.geometry import Polygon\n",
    "import matplotlib.pyplot as plt\n",
    "import folium"
   ]
  },
  {
   "cell_type": "code",
   "execution_count": null,
   "id": "fd13cf15-7f96-4cac-8de1-836b2296968e",
   "metadata": {},
   "outputs": [],
   "source": [
    "# set up S3 filesystem\n",
    "s3 = s3fs.S3FileSystem(anon=True) "
   ]
  },
  {
   "cell_type": "markdown",
   "id": "5f3ebe2c-545a-45cb-8948-bd230b4f9649",
   "metadata": {},
   "source": [
    "### Read in shapefile"
   ]
  },
  {
   "cell_type": "code",
   "execution_count": null,
   "id": "54eec8c3-6e8c-402c-b690-d0a12bb78637",
   "metadata": {},
   "outputs": [],
   "source": [
    "# path to shapefile on S3\n",
    "s3_shapefile_path = \"s3://dea-public-data-dev/projects/WIT/BWS_MDBA_ANAE_WIT_05_2022/shp_file/ANAEv3_WIT_clean19042022/ANAEv3_WIT_clean.shp\"\n",
    "\n",
    "# load\n",
    "shapefile = gpd.read_file(s3_shapefile_path, engine='fiona')\n",
    "\n",
    "print(f\"✅ Shapefile loaded. Number of rows: {len(shapefile)}\")"
   ]
  },
  {
   "cell_type": "code",
   "execution_count": null,
   "id": "d8e29823-9c61-44aa-8005-a53dc4eb91eb",
   "metadata": {},
   "outputs": [],
   "source": [
    "shapefile.head()"
   ]
  },
  {
   "cell_type": "code",
   "execution_count": null,
   "id": "744078db-95fa-4c22-bb4a-84e01d85fff9",
   "metadata": {},
   "outputs": [],
   "source": [
    "shapefile.crs"
   ]
  },
  {
   "cell_type": "code",
   "execution_count": null,
   "id": "231a1078-60d0-4305-81e4-b39c8dcc8e5a",
   "metadata": {},
   "outputs": [],
   "source": [
    "# check UID is unique\n",
    "unique_id_column_name = \"UID\"\n",
    "len(shapefile[unique_id_column_name]) == len(set(shapefile[unique_id_column_name]))"
   ]
  },
  {
   "cell_type": "markdown",
   "id": "c4ac6b1f-0ca9-4125-be84-6298c01612a3",
   "metadata": {},
   "source": [
    "### Check for null geometries e.g. rows where the geometry is null"
   ]
  },
  {
   "cell_type": "code",
   "execution_count": null,
   "id": "4d56f95a-1e96-4674-a511-541eb85f1de9",
   "metadata": {},
   "outputs": [],
   "source": [
    "null_geoms = shapefile[shapefile.geometry.isnull()]\n",
    "if not null_geoms.empty:\n",
    "    print(f\"❗ Rows with null geometries: {null_geoms.index.tolist()}\")\n",
    "else:\n",
    "    print(\"✅ No null geometries found.\")"
   ]
  },
  {
   "cell_type": "code",
   "execution_count": null,
   "id": "c2d0756a-f96d-437f-9810-10f61f4dc135",
   "metadata": {},
   "outputs": [],
   "source": [
    "# remove any null geometries \n",
    "shapefile_cleaned = shapefile[shapefile.geometry.notnull()]\n",
    "print(f\"Removed {len(shapefile) - len(shapefile_cleaned)} rows with null geometries.\")"
   ]
  },
  {
   "cell_type": "markdown",
   "id": "f3fe73a6-90a3-4842-95e3-9fb14bf36189",
   "metadata": {},
   "source": [
    "### Check for invalid geometries e.g. self intersecting geometries"
   ]
  },
  {
   "cell_type": "code",
   "execution_count": null,
   "id": "05445618-979b-4219-9890-02375775c0dd",
   "metadata": {},
   "outputs": [],
   "source": [
    "invalid_geoms = shapefile_cleaned[~shapefile_cleaned.is_valid]\n",
    "\n",
    "if not invalid_geoms.empty:\n",
    "    print(f\"❗ Found {len(invalid_geoms)} invalid geometries.\")\n",
    "    \n",
    "    for idx, row in invalid_geoms.iterrows():\n",
    "        uid = row[\"UID\"]  \n",
    "        reason = explain_validity(row.geometry)\n",
    "        print(f\" - UID {uid} is invalid: {reason}\")\n",
    "else:\n",
    "    print(\"✅ All remaining geometries are valid.\")"
   ]
  },
  {
   "cell_type": "code",
   "execution_count": null,
   "id": "795eb784-ab94-4676-ae25-9662fb649e1c",
   "metadata": {},
   "outputs": [],
   "source": [
    "# remove invalid geometries (just for analysis!!)\n",
    "shapefile_cleaned = shapefile_cleaned[shapefile_cleaned.is_valid]\n",
    "print(f\"Remaining rows after cleaning: {len(shapefile_cleaned)}\")"
   ]
  },
  {
   "cell_type": "markdown",
   "id": "b83fdfae-16f0-4bf2-81b9-680bab618d27",
   "metadata": {},
   "source": [
    "### Check for intersecting polygons \n",
    "We remove null or invalid geometries because testing for intersections could result in weird results."
   ]
  },
  {
   "cell_type": "code",
   "execution_count": null,
   "id": "621e6c92-e5db-47f0-a761-8a0668fc39c4",
   "metadata": {},
   "outputs": [],
   "source": [
    "# build spatial index for fast lookup\n",
    "sindex = shapefile_cleaned.sindex\n",
    "\n",
    "overlap_pairs = set()\n",
    "\n",
    "# loop through each geometry and compare it to potential overlaps\n",
    "for idx, geom in shapefile_cleaned.geometry.items():\n",
    "    if geom is None or geom.is_empty:\n",
    "        continue  # skip if geometry is missing or empty\n",
    "\n",
    "    # get possible matches using bounding boxes\n",
    "    possible_matches_index = list(sindex.intersection(geom.bounds))\n",
    "    \n",
    "    # filter to actual overlaps (excluding itself)\n",
    "    for match_idx in possible_matches_index:\n",
    "        if idx >= match_idx:\n",
    "            continue  # avoid duplicates and self\n",
    "\n",
    "        other_geom = shapefile_cleaned.geometry.iloc[match_idx]\n",
    "        if other_geom is None or other_geom.is_empty:\n",
    "            continue\n",
    "\n",
    "        if geom.intersects(other_geom) and not geom.touches(other_geom):\n",
    "            # record a sorted tuple to prevent duplicate pairings (e.g., (a, b) vs (b, a))\n",
    "            uid1 = shapefile_cleaned.loc[idx, \"UID\"]\n",
    "            uid2 = shapefile_cleaned.iloc[match_idx][\"UID\"]\n",
    "            overlap_pairs.add(tuple(sorted((uid1, uid2))))\n",
    "\n",
    "#  results\n",
    "if overlap_pairs:\n",
    "    print(f\"❗ Found {len(overlap_pairs)} overlapping UID pairs.\")\n",
    "    for pair in sorted(overlap_pairs):\n",
    "        print(f\" - {pair[0]} overlaps with {pair[1]}\")\n",
    "else:\n",
    "    print(\"✅ No overlapping geometries found.\")"
   ]
  },
  {
   "cell_type": "markdown",
   "id": "faf9d7a7-8aa1-4cf8-aa92-b4b56ed17550",
   "metadata": {},
   "source": [
    "Running the code on the non-cleaned shapefile to see what happens ?"
   ]
  },
  {
   "cell_type": "code",
   "execution_count": null,
   "id": "924eba21-8b79-41d8-9dff-5eec5ada0ccd",
   "metadata": {},
   "outputs": [],
   "source": [
    "# build spatial index for fast lookup\n",
    "sindex = shapefile.sindex\n",
    "\n",
    "overlap_pairs = set()\n",
    "\n",
    "# loop through each geometry and compare it to potential overlaps\n",
    "for idx, geom in shapefile.geometry.items():\n",
    "    if geom is None or geom.is_empty:\n",
    "        continue  # skip if geometry is missing or empty\n",
    "\n",
    "    # get possible matches using bounding boxes\n",
    "    possible_matches_index = list(sindex.intersection(geom.bounds))\n",
    "    \n",
    "    # filter to actual overlaps (excluding itself)\n",
    "    for match_idx in possible_matches_index:\n",
    "        if idx >= match_idx:\n",
    "            continue  # avoid duplicates and self\n",
    "\n",
    "        other_geom = shapefile.geometry.iloc[match_idx]\n",
    "        if other_geom is None or other_geom.is_empty:\n",
    "            continue\n",
    "\n",
    "        if geom.intersects(other_geom) and not geom.touches(other_geom):\n",
    "            # record a sorted tuple to prevent duplicate pairings (e.g., (a, b) vs (b, a))\n",
    "            uid1 = shapefile.loc[idx, \"UID\"]\n",
    "            uid2 = shapefile.iloc[match_idx][\"UID\"]\n",
    "            overlap_pairs.add(tuple(sorted((uid1, uid2))))\n",
    "\n",
    "#  results\n",
    "if overlap_pairs:\n",
    "    print(f\"❗ Found {len(overlap_pairs)} overlapping UID pairs.\")\n",
    "    for pair in sorted(overlap_pairs):\n",
    "        print(f\" - {pair[0]} overlaps with {pair[1]}\")\n",
    "else:\n",
    "    print(\"✅ No overlapping geometries found.\")"
   ]
  },
  {
   "cell_type": "code",
   "execution_count": null,
   "id": "dcdcb48c-a705-4434-8c65-3569dea52cbe",
   "metadata": {},
   "outputs": [],
   "source": []
  },
  {
   "cell_type": "code",
   "execution_count": null,
   "id": "2ab18611-9ee2-4c79-ba09-09c376d01312",
   "metadata": {},
   "outputs": [],
   "source": []
  },
  {
   "cell_type": "code",
   "execution_count": null,
   "id": "e8015126-fa79-4169-a88e-8f5492cfaa01",
   "metadata": {},
   "outputs": [],
   "source": []
  },
  {
   "cell_type": "code",
   "execution_count": null,
   "id": "b5dac549-65a8-46d7-95cf-6ae3ea96ab40",
   "metadata": {},
   "outputs": [],
   "source": []
  },
  {
   "cell_type": "code",
   "execution_count": null,
   "id": "be262862-d5ed-417b-85ad-63a6c7c87d7a",
   "metadata": {},
   "outputs": [],
   "source": []
  }
 ],
 "metadata": {
  "kernelspec": {
   "display_name": "Python 3 (ipykernel)",
   "language": "python",
   "name": "python3"
  },
  "language_info": {
   "codemirror_mode": {
    "name": "ipython",
    "version": 3
   },
   "file_extension": ".py",
   "mimetype": "text/x-python",
   "name": "python",
   "nbconvert_exporter": "python",
   "pygments_lexer": "ipython3",
   "version": "3.10.15"
  }
 },
 "nbformat": 4,
 "nbformat_minor": 5
}
