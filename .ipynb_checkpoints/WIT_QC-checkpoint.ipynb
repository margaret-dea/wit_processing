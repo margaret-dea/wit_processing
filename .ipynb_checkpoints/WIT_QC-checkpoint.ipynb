{
 "cells": [
  {
   "cell_type": "code",
   "execution_count": 1,
   "id": "4ed70cc5-3287-4bb6-a628-6c1f552fa6b4",
   "metadata": {
    "tags": []
   },
   "outputs": [],
   "source": [
    "import geopandas as gpd\n",
    "from tqdm import tqdm\n",
    "import pandas as pd\n",
    "import s3fs\n",
    "import concurrent.futures\n",
    "import matplotlib.pyplot as plt"
   ]
  },
  {
   "cell_type": "code",
   "execution_count": 2,
   "id": "4c5187d7-2d3d-4d3c-9e7f-7df7031ef02e",
   "metadata": {
    "tags": []
   },
   "outputs": [],
   "source": [
    "s3 = s3fs.S3FileSystem(anon=True)"
   ]
  },
  {
   "cell_type": "markdown",
   "id": "8dbf55ed-2552-44d0-9689-e3e8ef4f76ba",
   "metadata": {},
   "source": [
    "## Before WIT processing check"
   ]
  },
  {
   "cell_type": "code",
   "execution_count": 10,
   "id": "c00052a8-531a-4c55-95a8-fc7ea1724715",
   "metadata": {
    "tags": []
   },
   "outputs": [],
   "source": [
    "full_polygons = gpd.read_file(\"s3://dea-public-data-dev/projects/WIT/BWS_MDBA_ANAE_WIT_05_2022/shp_file/ANAEv3_WIT_clean19042022/ANAEv3_WIT_clean.shp\")"
   ]
  },
  {
   "cell_type": "code",
   "execution_count": 11,
   "id": "4345211a-c1c6-4e11-91e2-22593e73f9a6",
   "metadata": {
    "tags": []
   },
   "outputs": [
    {
     "data": {
      "text/html": [
       "<div>\n",
       "<style scoped>\n",
       "    .dataframe tbody tr th:only-of-type {\n",
       "        vertical-align: middle;\n",
       "    }\n",
       "\n",
       "    .dataframe tbody tr th {\n",
       "        vertical-align: top;\n",
       "    }\n",
       "\n",
       "    .dataframe thead th {\n",
       "        text-align: right;\n",
       "    }\n",
       "</style>\n",
       "<table border=\"1\" class=\"dataframe\">\n",
       "  <thead>\n",
       "    <tr style=\"text-align: right;\">\n",
       "      <th></th>\n",
       "      <th>UID</th>\n",
       "      <th>ANAE_TYPE</th>\n",
       "      <th>Area_Ha</th>\n",
       "      <th>geometry</th>\n",
       "    </tr>\n",
       "  </thead>\n",
       "  <tbody>\n",
       "    <tr>\n",
       "      <th>0</th>\n",
       "      <td>r1dtvqu5m</td>\n",
       "      <td>F4: Unspecified riparian zone or floodplain</td>\n",
       "      <td>3.972622</td>\n",
       "      <td>POLYGON ((611266.353 -3895503.720, 611256.319 ...</td>\n",
       "    </tr>\n",
       "    <tr>\n",
       "      <th>1</th>\n",
       "      <td>r1dtygfug</td>\n",
       "      <td>Pt2.1.2: Temporary tall emergent marsh</td>\n",
       "      <td>3.316279</td>\n",
       "      <td>POLYGON ((617367.374 -3897620.931, 617370.374 ...</td>\n",
       "    </tr>\n",
       "    <tr>\n",
       "      <th>2</th>\n",
       "      <td>r1dtyggsf</td>\n",
       "      <td>Etd1.2.1: Tide dominated saltmarsh</td>\n",
       "      <td>2.217581</td>\n",
       "      <td>POLYGON ((617038.183 -3897457.937, 617042.095 ...</td>\n",
       "    </tr>\n",
       "    <tr>\n",
       "      <th>3</th>\n",
       "      <td>r1dtyjqxg</td>\n",
       "      <td>Pt4.2: Temporary wetland</td>\n",
       "      <td>5.736414</td>\n",
       "      <td>POLYGON ((614794.869 -3896524.926, 614794.833 ...</td>\n",
       "    </tr>\n",
       "    <tr>\n",
       "      <th>4</th>\n",
       "      <td>r1dtyjxp1</td>\n",
       "      <td>Pt2.1.2: Temporary tall emergent marsh</td>\n",
       "      <td>4.490608</td>\n",
       "      <td>POLYGON ((614794.869 -3896524.926, 614784.178 ...</td>\n",
       "    </tr>\n",
       "    <tr>\n",
       "      <th>...</th>\n",
       "      <td>...</td>\n",
       "      <td>...</td>\n",
       "      <td>...</td>\n",
       "      <td>...</td>\n",
       "    </tr>\n",
       "    <tr>\n",
       "      <th>270648</th>\n",
       "      <td>r7hh7kxjv</td>\n",
       "      <td>Rt1.1: Temporary high energy upland stream</td>\n",
       "      <td>1.008318</td>\n",
       "      <td>POLYGON ((1949229.310 -3119406.198, 1949232.82...</td>\n",
       "    </tr>\n",
       "    <tr>\n",
       "      <th>270649</th>\n",
       "      <td>r7hh7m4fc</td>\n",
       "      <td>Rt1.1: Temporary high energy upland stream</td>\n",
       "      <td>2.508319</td>\n",
       "      <td>POLYGON ((1948684.816 -3119059.552, 1948649.94...</td>\n",
       "    </tr>\n",
       "    <tr>\n",
       "      <th>270650</th>\n",
       "      <td>r7hhdb24d</td>\n",
       "      <td>Rt1.1: Temporary high energy upland stream</td>\n",
       "      <td>3.858787</td>\n",
       "      <td>POLYGON ((1946809.814 -3116801.769, 1946769.42...</td>\n",
       "    </tr>\n",
       "    <tr>\n",
       "      <th>270651</th>\n",
       "      <td>r7hhdvgdj</td>\n",
       "      <td>Rt1.1: Temporary high energy upland stream</td>\n",
       "      <td>1.213341</td>\n",
       "      <td>POLYGON ((1947536.645 -3113549.088, 1947530.54...</td>\n",
       "    </tr>\n",
       "    <tr>\n",
       "      <th>270652</th>\n",
       "      <td>r7hhdzj8s</td>\n",
       "      <td>Rt1.1: Temporary high energy upland stream</td>\n",
       "      <td>1.294945</td>\n",
       "      <td>POLYGON ((1948009.821 -3112891.969, 1947999.51...</td>\n",
       "    </tr>\n",
       "  </tbody>\n",
       "</table>\n",
       "<p>270653 rows × 4 columns</p>\n",
       "</div>"
      ],
      "text/plain": [
       "              UID                                    ANAE_TYPE   Area_Ha  \\\n",
       "0       r1dtvqu5m  F4: Unspecified riparian zone or floodplain  3.972622   \n",
       "1       r1dtygfug       Pt2.1.2: Temporary tall emergent marsh  3.316279   \n",
       "2       r1dtyggsf           Etd1.2.1: Tide dominated saltmarsh  2.217581   \n",
       "3       r1dtyjqxg                     Pt4.2: Temporary wetland  5.736414   \n",
       "4       r1dtyjxp1       Pt2.1.2: Temporary tall emergent marsh  4.490608   \n",
       "...           ...                                          ...       ...   \n",
       "270648  r7hh7kxjv   Rt1.1: Temporary high energy upland stream  1.008318   \n",
       "270649  r7hh7m4fc   Rt1.1: Temporary high energy upland stream  2.508319   \n",
       "270650  r7hhdb24d   Rt1.1: Temporary high energy upland stream  3.858787   \n",
       "270651  r7hhdvgdj   Rt1.1: Temporary high energy upland stream  1.213341   \n",
       "270652  r7hhdzj8s   Rt1.1: Temporary high energy upland stream  1.294945   \n",
       "\n",
       "                                                 geometry  \n",
       "0       POLYGON ((611266.353 -3895503.720, 611256.319 ...  \n",
       "1       POLYGON ((617367.374 -3897620.931, 617370.374 ...  \n",
       "2       POLYGON ((617038.183 -3897457.937, 617042.095 ...  \n",
       "3       POLYGON ((614794.869 -3896524.926, 614794.833 ...  \n",
       "4       POLYGON ((614794.869 -3896524.926, 614784.178 ...  \n",
       "...                                                   ...  \n",
       "270648  POLYGON ((1949229.310 -3119406.198, 1949232.82...  \n",
       "270649  POLYGON ((1948684.816 -3119059.552, 1948649.94...  \n",
       "270650  POLYGON ((1946809.814 -3116801.769, 1946769.42...  \n",
       "270651  POLYGON ((1947536.645 -3113549.088, 1947530.54...  \n",
       "270652  POLYGON ((1948009.821 -3112891.969, 1947999.51...  \n",
       "\n",
       "[270653 rows x 4 columns]"
      ]
     },
     "execution_count": 11,
     "metadata": {},
     "output_type": "execute_result"
    }
   ],
   "source": [
    "full_polygons"
   ]
  },
  {
   "cell_type": "code",
   "execution_count": 16,
   "id": "08df7a78-9518-4ba6-858b-b197432517f9",
   "metadata": {},
   "outputs": [
    {
     "data": {
      "text/plain": [
       "<Projected CRS: EPSG:3577>\n",
       "Name: GDA94 / Australian Albers\n",
       "Axis Info [cartesian]:\n",
       "- E[east]: Easting (metre)\n",
       "- N[north]: Northing (metre)\n",
       "Area of Use:\n",
       "- name: Australia - Australian Capital Territory; New South Wales; Northern Territory; Queensland; South Australia; Tasmania; Western Australia; Victoria.\n",
       "- bounds: (112.85, -43.7, 153.69, -9.86)\n",
       "Coordinate Operation:\n",
       "- name: Australian Albers\n",
       "- method: Albers Equal Area\n",
       "Datum: Geocentric Datum of Australia 1994\n",
       "- Ellipsoid: GRS 1980\n",
       "- Prime Meridian: Greenwich"
      ]
     },
     "execution_count": 16,
     "metadata": {},
     "output_type": "execute_result"
    }
   ],
   "source": [
    "full_polygons.crs"
   ]
  },
  {
   "cell_type": "code",
   "execution_count": 12,
   "id": "4b253afc-aa0a-4d24-a368-650e7e9de689",
   "metadata": {
    "tags": []
   },
   "outputs": [
    {
     "data": {
      "text/plain": [
       "True"
      ]
     },
     "execution_count": 12,
     "metadata": {},
     "output_type": "execute_result"
    }
   ],
   "source": [
    "# 1. check UID is unique\n",
    "unique_id_column_name = \"UID\"\n",
    "len(full_polygons[unique_id_column_name]) == len(set(full_polygons[unique_id_column_name]))"
   ]
  },
  {
   "cell_type": "code",
   "execution_count": 13,
   "id": "862344c5-1dd7-40c8-aad3-8e3536c9cb88",
   "metadata": {
    "tags": []
   },
   "outputs": [
    {
     "data": {
      "image/png": "[encoded data removed]",
      "text/plain": [
       "<Figure size 640x480 with 1 Axes>"
      ]
     },
     "metadata": {},
     "output_type": "display_data"
    }
   ],
   "source": [
    "# 2. visualizate polygon size\n",
    "# Extract the areas of the polygons\n",
    "\n",
    "areas = full_polygons.geometry.area\n",
    "\n",
    "# Create a scatter plot\n",
    "plt.scatter(range(len(areas)), areas, s=10, alpha=0.5)\n",
    "\n",
    "# Set the chart title and labels\n",
    "plt.title(\"Polygon Area Scatter Plot\")\n",
    "plt.xlabel(\"Polygon Index\")\n",
    "plt.ylabel(\"Area\")\n",
    "\n",
    "# Display the scatter plot\n",
    "plt.show()"
   ]
  },
  {
   "cell_type": "code",
   "execution_count": 14,
   "id": "3e473ee3-8ae1-46da-86de-c0d97832a378",
   "metadata": {
    "tags": []
   },
   "outputs": [
    {
     "data": {
      "text/html": [
       "<div>\n",
       "<style scoped>\n",
       "    .dataframe tbody tr th:only-of-type {\n",
       "        vertical-align: middle;\n",
       "    }\n",
       "\n",
       "    .dataframe tbody tr th {\n",
       "        vertical-align: top;\n",
       "    }\n",
       "\n",
       "    .dataframe thead th {\n",
       "        text-align: right;\n",
       "    }\n",
       "</style>\n",
       "<table border=\"1\" class=\"dataframe\">\n",
       "  <thead>\n",
       "    <tr style=\"text-align: right;\">\n",
       "      <th></th>\n",
       "      <th>UID</th>\n",
       "      <th>ANAE_TYPE</th>\n",
       "      <th>Area_Ha</th>\n",
       "      <th>geometry</th>\n",
       "    </tr>\n",
       "  </thead>\n",
       "  <tbody>\n",
       "    <tr>\n",
       "      <th>292</th>\n",
       "      <td>r1dvcwur6</td>\n",
       "      <td>Pt3.1.2: Clay pan</td>\n",
       "      <td>2.676933</td>\n",
       "      <td>POLYGON ((628506.315 -3896722.357, 628505.256 ...</td>\n",
       "    </tr>\n",
       "    <tr>\n",
       "      <th>1200</th>\n",
       "      <td>r1dyq4xpv</td>\n",
       "      <td>Lp1.1: Permanent lake</td>\n",
       "      <td>62537.129555</td>\n",
       "      <td>POLYGON ((656421.092 -3876240.246, 656435.518 ...</td>\n",
       "    </tr>\n",
       "    <tr>\n",
       "      <th>799</th>\n",
       "      <td>r1dwnvrtu</td>\n",
       "      <td>Lp1.1: Permanent lake</td>\n",
       "      <td>880.472964</td>\n",
       "      <td>POLYGON ((615181.839 -3889420.830, 615189.004 ...</td>\n",
       "    </tr>\n",
       "    <tr>\n",
       "      <th>825</th>\n",
       "      <td>r1dwpvmtd</td>\n",
       "      <td>Pt2.1.2: Temporary tall emergent marsh</td>\n",
       "      <td>126.659524</td>\n",
       "      <td>POLYGON ((620421.277 -3891418.907, 620433.227 ...</td>\n",
       "    </tr>\n",
       "    <tr>\n",
       "      <th>998</th>\n",
       "      <td>r1dy0jxgk</td>\n",
       "      <td>Pt2.1.2: Temporary tall emergent marsh</td>\n",
       "      <td>11.841199</td>\n",
       "      <td>POLYGON ((623823.800 -3892205.812, 623590.140 ...</td>\n",
       "    </tr>\n",
       "    <tr>\n",
       "      <th>...</th>\n",
       "      <td>...</td>\n",
       "      <td>...</td>\n",
       "      <td>...</td>\n",
       "      <td>...</td>\n",
       "    </tr>\n",
       "    <tr>\n",
       "      <th>230204</th>\n",
       "      <td>r6cc1962x</td>\n",
       "      <td>F1.8: Black box woodland riparian zone or floo...</td>\n",
       "      <td>8204.822213</td>\n",
       "      <td>POLYGON ((1611470.499 -3283153.196, 1611446.76...</td>\n",
       "    </tr>\n",
       "    <tr>\n",
       "      <th>248980</th>\n",
       "      <td>r6f6ez83m</td>\n",
       "      <td>Rp1.4: Permanent lowland stream</td>\n",
       "      <td>5.881922</td>\n",
       "      <td>POLYGON ((1685939.425 -3272089.219, 1685958.91...</td>\n",
       "    </tr>\n",
       "    <tr>\n",
       "      <th>248994</th>\n",
       "      <td>r6f6gcj02</td>\n",
       "      <td>F1.10: Coolibah woodland and forest riparian z...</td>\n",
       "      <td>915.876616</td>\n",
       "      <td>POLYGON ((1684618.822 -3269441.210, 1684613.46...</td>\n",
       "    </tr>\n",
       "    <tr>\n",
       "      <th>262754</th>\n",
       "      <td>r718t6vp3</td>\n",
       "      <td>Rt1.4: Temporary lowland stream</td>\n",
       "      <td>2.974657</td>\n",
       "      <td>POLYGON ((1607429.409 -3146045.958, 1607728.74...</td>\n",
       "    </tr>\n",
       "    <tr>\n",
       "      <th>262755</th>\n",
       "      <td>r718te3rh</td>\n",
       "      <td>F1.2: River red gum forest riparian zone or fl...</td>\n",
       "      <td>5.809624</td>\n",
       "      <td>POLYGON ((1607429.409 -3146045.958, 1607554.25...</td>\n",
       "    </tr>\n",
       "  </tbody>\n",
       "</table>\n",
       "<p>92 rows × 4 columns</p>\n",
       "</div>"
      ],
      "text/plain": [
       "              UID                                          ANAE_TYPE  \\\n",
       "292     r1dvcwur6                                  Pt3.1.2: Clay pan   \n",
       "1200    r1dyq4xpv                              Lp1.1: Permanent lake   \n",
       "799     r1dwnvrtu                              Lp1.1: Permanent lake   \n",
       "825     r1dwpvmtd             Pt2.1.2: Temporary tall emergent marsh   \n",
       "998     r1dy0jxgk             Pt2.1.2: Temporary tall emergent marsh   \n",
       "...           ...                                                ...   \n",
       "230204  r6cc1962x  F1.8: Black box woodland riparian zone or floo...   \n",
       "248980  r6f6ez83m                    Rp1.4: Permanent lowland stream   \n",
       "248994  r6f6gcj02  F1.10: Coolibah woodland and forest riparian z...   \n",
       "262754  r718t6vp3                    Rt1.4: Temporary lowland stream   \n",
       "262755  r718te3rh  F1.2: River red gum forest riparian zone or fl...   \n",
       "\n",
       "             Area_Ha                                           geometry  \n",
       "292         2.676933  POLYGON ((628506.315 -3896722.357, 628505.256 ...  \n",
       "1200    62537.129555  POLYGON ((656421.092 -3876240.246, 656435.518 ...  \n",
       "799       880.472964  POLYGON ((615181.839 -3889420.830, 615189.004 ...  \n",
       "825       126.659524  POLYGON ((620421.277 -3891418.907, 620433.227 ...  \n",
       "998        11.841199  POLYGON ((623823.800 -3892205.812, 623590.140 ...  \n",
       "...              ...                                                ...  \n",
       "230204   8204.822213  POLYGON ((1611470.499 -3283153.196, 1611446.76...  \n",
       "248980      5.881922  POLYGON ((1685939.425 -3272089.219, 1685958.91...  \n",
       "248994    915.876616  POLYGON ((1684618.822 -3269441.210, 1684613.46...  \n",
       "262754      2.974657  POLYGON ((1607429.409 -3146045.958, 1607728.74...  \n",
       "262755      5.809624  POLYGON ((1607429.409 -3146045.958, 1607554.25...  \n",
       "\n",
       "[92 rows x 4 columns]"
      ]
     },
     "execution_count": 14,
     "metadata": {},
     "output_type": "execute_result"
    }
   ],
   "source": [
    "# 3. check geometry overlay or not\n",
    "# Create a spatial index for faster queries\n",
    "\n",
    "full_polygons_sindex = full_polygons.sindex\n",
    "\n",
    "import warnings\n",
    "\n",
    "# Turn off all warning messages\n",
    "warnings.filterwarnings(\"ignore\")\n",
    "\n",
    "# Create a list to store overlapping polygon rows\n",
    "overlapping_rows = []\n",
    "\n",
    "# Iterate over each polygon in the GeoDataFrame\n",
    "for i, polygon in full_polygons.iterrows():\n",
    "    # Create a bounding box around the polygon\n",
    "    bbox = polygon.geometry.bounds\n",
    "\n",
    "    # Use the spatial index to find potential overlaps\n",
    "    potential_overlaps = list(full_polygons_sindex.intersection(bbox))\n",
    "\n",
    "    # Check for actual overlaps with each potential overlap\n",
    "    for j in potential_overlaps:\n",
    "        if i != j:\n",
    "            other_polygon = full_polygons.iloc[j]\n",
    "            if polygon.geometry.intersects(other_polygon.geometry) and not polygon.geometry.touches(other_polygon.geometry):\n",
    "                overlapping_rows.append(polygon)\n",
    "                overlapping_rows.append(other_polygon)\n",
    "\n",
    "# Remove duplicates (optional, if you want unique overlapping polygons)\n",
    "overlapping_polygons = gpd.GeoDataFrame(overlapping_rows).drop_duplicates()\n",
    "\n",
    "# Display the overlapping polygons\n",
    "overlapping_polygons"
   ]
  },
  {
   "cell_type": "code",
   "execution_count": 9,
   "id": "7d17d52c-54ad-4e93-b31d-d25f1df9c5fd",
   "metadata": {
    "tags": []
   },
   "outputs": [],
   "source": [
    "# if we find overlap polygons, save them as shapefile to manually check\n",
    "if len(overlapping_polygons) > 0:\n",
    "    first_polygon_id = list(overlapping_polygons[\"UID\"])[0]\n",
    "    \n",
    "    # just grab one polygon to make manually check easy\n",
    "    single_overlap_polygon_gdf = full_polygons[full_polygons[\"UID\"] == first_polygon_id]\n",
    "    single_overlap_polygon_gdf.to_file(\"single_overlap_polygon.shp\", driver='ESRI Shapefile')\n",
    "    \n",
    "    without_single_overlap_polygon_gdf = full_polygons[full_polygons[\"UID\"] != first_polygon_id]\n",
    "    without_single_overlap_polygon_gdf.to_file(\"single_overlap_polygons.shp\", driver='ESRI Shapefile')"
   ]
  },
  {
   "cell_type": "markdown",
   "id": "6f999523-b242-4d81-86f9-1459805fcff1",
   "metadata": {},
   "source": [
    "## After WIT processing check"
   ]
  },
  {
   "cell_type": "code",
   "execution_count": null,
   "id": "6b1d0a40-3f9a-40b5-90d0-1add282b733e",
   "metadata": {
    "tags": []
   },
   "outputs": [],
   "source": [
    "# load WIT result from output folder\n",
    "\n",
    "files = s3.glob(\"s3://dea-public-data-dev/projects/WIT/BWS_MDBA_ANAE_WIT_09_04_2025/polygon_base_result/*.csv\")\n",
    "dfs = []\n",
    "\n",
    "def load_csv(file):\n",
    "    with s3.open(file, \"rb\") as f:\n",
    "        df = pd.read_csv(f)\n",
    "        return df\n",
    "\n",
    "with concurrent.futures.ThreadPoolExecutor() as executor, \\\n",
    "        tqdm(total=len(files), desc=\"Loading CSVs\") as pbar:\n",
    "\n",
    "    futures = [executor.submit(load_csv, file) for file in files]\n",
    "    for future in concurrent.futures.as_completed(futures):\n",
    "        r = future.result()\n",
    "        dfs.append(r)\n",
    "        pbar.update(1)\n",
    "\n",
    "df = pd.concat(dfs, ignore_index=True)"
   ]
  },
  {
   "cell_type": "code",
   "execution_count": 10,
   "id": "0819b5e6-f10f-400a-be32-9d3054bf6b13",
   "metadata": {
    "tags": []
   },
   "outputs": [],
   "source": [
    "# only check the normalized columns\n",
    "\n",
    "df['sum'] = df[\"water\"] + df[\"wet\"] + df[\"norm_bs\"] + df[\"norm_npv\"] + df[\"norm_pv\"]"
   ]
  },
  {
   "cell_type": "code",
   "execution_count": 11,
   "id": "2cb38bbb-0ef1-43cb-ab87-7036121ae001",
   "metadata": {
    "tags": []
   },
   "outputs": [
    {
     "name": "stdout",
     "output_type": "stream",
     "text": [
      "number of polygons in delivery CSV 36906\n",
      "number of polygons in shapefile 38795\n",
      "we lost: 1889 polygons\n"
     ]
    }
   ],
   "source": [
    "# 1. number of polygons in shape file matches number of polygons in shapefile\n",
    "print(\"number of polygons in delivery CSV\", len(set(df[\"feature_id\"])))\n",
    "print(\"number of polygons in shapefile\", len(full_polygons))\n",
    "print(\"we lost:\", len(full_polygons) - len(set(df[\"feature_id\"])), \"polygons\")\n",
    "\n",
    "if len(set(df[\"feature_id\"])) != len(full_polygons):\n",
    "    # find the missing polygons from shapefile\n",
    "    wit_result_missing_polygons = full_polygons[~full_polygons['UID'].isin(list(df['feature_id']))]\n",
    "    wit_result_missing_polygons.to_file(\"wit_result_missing_polygons.shp\", driver='ESRI Shapefile')"
   ]
  },
  {
   "cell_type": "code",
   "execution_count": 12,
   "id": "bbbb1520-18a6-4714-ad01-9f8837192178",
   "metadata": {
    "tags": []
   },
   "outputs": [
    {
     "name": "stdout",
     "output_type": "stream",
     "text": [
      "polygon with less than 500 timestampes: 0\n"
     ]
    }
   ],
   "source": [
    "# 2. the number of timestampes of each polygons are make sense (e.g. no almost empty polygon base result)\n",
    "\n",
    "# printout all polygon which size is less than 500 (less than 500 timestampes)\n",
    "print(\"polygon with less than 500 timestampes:\", len([e for e in dfs if len(e) < 500]))"
   ]
  },
  {
   "cell_type": "code",
   "execution_count": 13,
   "id": "cd837abf-d8ca-4525-9307-0d9457d10368",
   "metadata": {
    "tags": []
   },
   "outputs": [
    {
     "name": "stdout",
     "output_type": "stream",
     "text": [
      "timestampes great than 1.0001 / overall timestampes 4.878769648451959e-08\n",
      "timestampes less than < 0.99999 / overall timestamps 4.878769648451959e-08\n"
     ]
    }
   ],
   "source": [
    "# 3. check the sum (wet + water + norm_pv + nrom_npv + norm_bs) values distribution information\n",
    "df = df[df['pc_missing'] < 0.1] # drop all the low quality data (we keep them in WIT result for debug)\n",
    "df = df.dropna(subset=['bs'])\n",
    "\n",
    "print(\"timestampes great than 1.0001 / overall timestampes\", len([df[df['sum'] > 1.00001]])/len(df))\n",
    "print(\"timestampes less than < 0.99999 / overall timestamps\", len([df[df['sum'] < 0.99999]])/len(df))"
   ]
  },
  {
   "cell_type": "code",
   "execution_count": null,
   "id": "b9b9f04c-7e8d-4dcb-96cc-004b4ae88c25",
   "metadata": {},
   "outputs": [],
   "source": []
  },
  {
   "cell_type": "code",
   "execution_count": null,
   "id": "3bf169f5-82fa-4d17-8e5e-400cf8e209d3",
   "metadata": {},
   "outputs": [],
   "source": []
  },
  {
   "cell_type": "code",
   "execution_count": 17,
   "id": "87a3206f-d611-4d93-a99a-81a4943f6104",
   "metadata": {},
   "outputs": [
    {
     "data": {
      "text/html": [
       "<div>\n",
       "<style scoped>\n",
       "    .dataframe tbody tr th:only-of-type {\n",
       "        vertical-align: middle;\n",
       "    }\n",
       "\n",
       "    .dataframe tbody tr th {\n",
       "        vertical-align: top;\n",
       "    }\n",
       "\n",
       "    .dataframe thead th {\n",
       "        text-align: right;\n",
       "    }\n",
       "</style>\n",
       "<table border=\"1\" class=\"dataframe\">\n",
       "  <thead>\n",
       "    <tr style=\"text-align: right;\">\n",
       "      <th></th>\n",
       "      <th>water</th>\n",
       "      <th>wet</th>\n",
       "      <th>bs</th>\n",
       "      <th>pv</th>\n",
       "      <th>npv</th>\n",
       "      <th>pc_missing</th>\n",
       "    </tr>\n",
       "  </thead>\n",
       "  <tbody>\n",
       "    <tr>\n",
       "      <th>r45pp3xp9</th>\n",
       "      <td>0.000000</td>\n",
       "      <td>0.000000</td>\n",
       "      <td>0.525113</td>\n",
       "      <td>0.149676</td>\n",
       "      <td>0.307352</td>\n",
       "      <td>0.000000</td>\n",
       "    </tr>\n",
       "    <tr>\n",
       "      <th>r45q26ky5</th>\n",
       "      <td>0.000000</td>\n",
       "      <td>0.000000</td>\n",
       "      <td>0.481437</td>\n",
       "      <td>0.158524</td>\n",
       "      <td>0.342739</td>\n",
       "      <td>0.611578</td>\n",
       "    </tr>\n",
       "    <tr>\n",
       "      <th>r45znhd50</th>\n",
       "      <td>0.000000</td>\n",
       "      <td>0.000000</td>\n",
       "      <td>0.576564</td>\n",
       "      <td>0.049305</td>\n",
       "      <td>0.356646</td>\n",
       "      <td>0.050485</td>\n",
       "    </tr>\n",
       "    <tr>\n",
       "      <th>r45qzs7t5</th>\n",
       "      <td>0.000000</td>\n",
       "      <td>0.000000</td>\n",
       "      <td>0.426640</td>\n",
       "      <td>0.153733</td>\n",
       "      <td>0.403433</td>\n",
       "      <td>0.000000</td>\n",
       "    </tr>\n",
       "    <tr>\n",
       "      <th>r45w9nhbj</th>\n",
       "      <td>0.000498</td>\n",
       "      <td>0.009046</td>\n",
       "      <td>0.451722</td>\n",
       "      <td>0.147725</td>\n",
       "      <td>0.374385</td>\n",
       "      <td>0.036077</td>\n",
       "    </tr>\n",
       "    <tr>\n",
       "      <th>...</th>\n",
       "      <td>...</td>\n",
       "      <td>...</td>\n",
       "      <td>...</td>\n",
       "      <td>...</td>\n",
       "      <td>...</td>\n",
       "      <td>...</td>\n",
       "    </tr>\n",
       "    <tr>\n",
       "      <th>r1gtx45pm</th>\n",
       "      <td>NaN</td>\n",
       "      <td>NaN</td>\n",
       "      <td>NaN</td>\n",
       "      <td>NaN</td>\n",
       "      <td>NaN</td>\n",
       "      <td>1.000000</td>\n",
       "    </tr>\n",
       "    <tr>\n",
       "      <th>r1gts117q</th>\n",
       "      <td>NaN</td>\n",
       "      <td>NaN</td>\n",
       "      <td>NaN</td>\n",
       "      <td>NaN</td>\n",
       "      <td>NaN</td>\n",
       "      <td>1.000000</td>\n",
       "    </tr>\n",
       "    <tr>\n",
       "      <th>r1gte2zt6</th>\n",
       "      <td>NaN</td>\n",
       "      <td>NaN</td>\n",
       "      <td>NaN</td>\n",
       "      <td>NaN</td>\n",
       "      <td>NaN</td>\n",
       "      <td>1.000000</td>\n",
       "    </tr>\n",
       "    <tr>\n",
       "      <th>r1gte8cvu</th>\n",
       "      <td>NaN</td>\n",
       "      <td>NaN</td>\n",
       "      <td>NaN</td>\n",
       "      <td>NaN</td>\n",
       "      <td>NaN</td>\n",
       "      <td>1.000000</td>\n",
       "    </tr>\n",
       "    <tr>\n",
       "      <th>r1gtwcyhz</th>\n",
       "      <td>NaN</td>\n",
       "      <td>NaN</td>\n",
       "      <td>NaN</td>\n",
       "      <td>NaN</td>\n",
       "      <td>NaN</td>\n",
       "      <td>1.000000</td>\n",
       "    </tr>\n",
       "  </tbody>\n",
       "</table>\n",
       "<p>927 rows × 6 columns</p>\n",
       "</div>"
      ],
      "text/plain": [
       "              water       wet        bs        pv       npv  pc_missing\n",
       "r45pp3xp9  0.000000  0.000000  0.525113  0.149676  0.307352    0.000000\n",
       "r45q26ky5  0.000000  0.000000  0.481437  0.158524  0.342739    0.611578\n",
       "r45znhd50  0.000000  0.000000  0.576564  0.049305  0.356646    0.050485\n",
       "r45qzs7t5  0.000000  0.000000  0.426640  0.153733  0.403433    0.000000\n",
       "r45w9nhbj  0.000498  0.009046  0.451722  0.147725  0.374385    0.036077\n",
       "...             ...       ...       ...       ...       ...         ...\n",
       "r1gtx45pm       NaN       NaN       NaN       NaN       NaN    1.000000\n",
       "r1gts117q       NaN       NaN       NaN       NaN       NaN    1.000000\n",
       "r1gte2zt6       NaN       NaN       NaN       NaN       NaN    1.000000\n",
       "r1gte8cvu       NaN       NaN       NaN       NaN       NaN    1.000000\n",
       "r1gtwcyhz       NaN       NaN       NaN       NaN       NaN    1.000000\n",
       "\n",
       "[927 rows x 6 columns]"
      ]
     },
     "execution_count": 17,
     "metadata": {},
     "output_type": "execute_result"
    }
   ],
   "source": [
    "import pandas as pd\n",
    "df = pd.read_parquet(\"https://dea-public-data-dev.s3-ap-southeast-2.amazonaws.com/projects/WIT/MDBA_ANAE_WIT_MH_LS_15_04_2025/timestamp_base_result/20240402/wit_ls8_10068fba-2370-4f85-836c-e8962b9218f4_20240402-003246-292791.pq\")\n",
    "df"
   ]
  },
  {
   "cell_type": "code",
   "execution_count": null,
   "id": "98d32002-65b9-4135-9d3f-7e1c045a0e6d",
   "metadata": {},
   "outputs": [],
   "source": []
  },
  {
   "cell_type": "code",
   "execution_count": null,
   "id": "3df5f1c9-7644-49e6-aeee-c1fd7886cbd8",
   "metadata": {},
   "outputs": [],
   "source": []
  },
  {
   "cell_type": "code",
   "execution_count": 18,
   "id": "d6cbf9c4-0f99-4cd0-b007-03ab7ba9c756",
   "metadata": {},
   "outputs": [
    {
     "name": "stdout",
     "output_type": "stream",
     "text": [
      "Number of files in the ZIP: 27066\n"
     ]
    }
   ],
   "source": [
    "import requests\n",
    "import zipfile\n",
    "import io\n",
    "\n",
    "url = \"https://dea-public-data-dev.s3-ap-southeast-2.amazonaws.com/projects/WIT/ANAEv3_WIT_result_22022024/ANAE_WIT_result_2024_02-part-0.zip\"\n",
    "\n",
    "# Stream the file\n",
    "response = requests.get(url, stream=True)\n",
    "response.raise_for_status()  # Ensure the request was successful\n",
    "\n",
    "# Load the ZIP in memory\n",
    "with zipfile.ZipFile(io.BytesIO(response.content)) as zip_file:\n",
    "    # Get list of file names (excluding directories)\n",
    "    file_list = [f for f in zip_file.namelist() if not f.endswith('/')]\n",
    "    print(f\"Number of files in the ZIP: {len(file_list)}\")\n"
   ]
  },
  {
   "cell_type": "code",
   "execution_count": 19,
   "id": "4549a995-635f-4e9c-8a2d-1065be9820f1",
   "metadata": {},
   "outputs": [
    {
     "name": "stdout",
     "output_type": "stream",
     "text": [
      "ANAE_WIT_result_2024_02-part-0.zip: 27066 files\n",
      "ANAE_WIT_result_2024_02-part-1.zip: 27066 files\n",
      "ANAE_WIT_result_2024_02-part-2.zip: 27066 files\n",
      "ANAE_WIT_result_2024_02-part-3.zip: 27066 files\n",
      "ANAE_WIT_result_2024_02-part-4.zip: 27066 files\n",
      "ANAE_WIT_result_2024_02-part-5.zip: 27066 files\n",
      "ANAE_WIT_result_2024_02-part-6.zip: 27066 files\n",
      "ANAE_WIT_result_2024_02-part-7.zip: 27066 files\n",
      "ANAE_WIT_result_2024_02-part-8.zip: 27066 files\n",
      "ANAE_WIT_result_2024_02-part-9.zip: 27059 files\n"
     ]
    }
   ],
   "source": [
    "import requests\n",
    "import zipfile\n",
    "import io\n",
    "import xml.etree.ElementTree as ET\n",
    "\n",
    "# Base S3 \"directory\" URL (no index.html, so it lists files in XML format)\n",
    "base_url = \"https://dea-public-data-dev.s3-ap-southeast-2.amazonaws.com\"\n",
    "prefix = \"projects/WIT/ANAEv3_WIT_result_22022024/\"\n",
    "listing_url = f\"{base_url}/?prefix={prefix}\"\n",
    "\n",
    "# Step 1: List all zip files in the given S3 \"directory\"\n",
    "response = requests.get(listing_url)\n",
    "response.raise_for_status()\n",
    "\n",
    "# Parse the XML response\n",
    "root = ET.fromstring(response.content)\n",
    "namespaces = {'s3': 'http://s3.amazonaws.com/doc/2006-03-01/'}\n",
    "zip_urls = []\n",
    "\n",
    "for contents in root.findall(\".//s3:Contents\", namespaces):\n",
    "    key = contents.find(\"s3:Key\", namespaces).text\n",
    "    if key.endswith(\".zip\"):\n",
    "        zip_urls.append(f\"{base_url}/{key}\")\n",
    "\n",
    "# Step 2: Count files in each ZIP\n",
    "for url in zip_urls:\n",
    "    try:\n",
    "        r = requests.get(url, stream=True)\n",
    "        r.raise_for_status()\n",
    "        with zipfile.ZipFile(io.BytesIO(r.content)) as zip_file:\n",
    "            file_list = [f for f in zip_file.namelist() if not f.endswith('/')]\n",
    "            print(f\"{url.split('/')[-1]}: {len(file_list)} files\")\n",
    "    except Exception as e:\n",
    "        print(f\"Error processing {url}: {e}\")\n"
   ]
  },
  {
   "cell_type": "code",
   "execution_count": 20,
   "id": "d9218e8f-13c4-43b9-be92-3ee5291b8f5c",
   "metadata": {},
   "outputs": [
    {
     "data": {
      "text/plain": [
       "270653"
      ]
     },
     "execution_count": 20,
     "metadata": {},
     "output_type": "execute_result"
    }
   ],
   "source": [
    "27066+27066+27066+27066+27066+27066+27066+27066+27066+27059"
   ]
  },
  {
   "cell_type": "code",
   "execution_count": null,
   "id": "20d8c2aa-35b0-4b44-95b0-4212dc8d790c",
   "metadata": {},
   "outputs": [],
   "source": []
  }
 ],
 "metadata": {
  "kernelspec": {
   "display_name": "Python 3 (ipykernel)",
   "language": "python",
   "name": "python3"
  },
  "language_info": {
   "codemirror_mode": {
    "name": "ipython",
    "version": 3
   },
   "file_extension": ".py",
   "mimetype": "text/x-python",
   "name": "python",
   "nbconvert_exporter": "python",
   "pygments_lexer": "ipython3",
   "version": "3.10.15"
  }
 },
 "nbformat": 4,
 "nbformat_minor": 5
}
