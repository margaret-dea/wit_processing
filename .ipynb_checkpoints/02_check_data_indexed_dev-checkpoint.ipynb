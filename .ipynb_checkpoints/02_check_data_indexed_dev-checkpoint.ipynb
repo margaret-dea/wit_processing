{
 "cells": [
  {
   "cell_type": "markdown",
   "id": "ce665df4-7fd5-41c1-9c3a-2f6ee75a0475",
   "metadata": {},
   "source": [
    "# Check data is indexed in dev\n",
    "\n",
    "This notebook does a simple load to see if data is index in dev. \n",
    "You can either run this in the dev sandbox, OR, [use the following instructions](https://docs.dev.dea.ga.gov.au/procedures/dev_database_from_prod_jupyterhub.html) to access the dev database from the prod sandbox (what I have done here). \n",
    "\n",
    "What are we checking for? We want to see a) data is index and b) we have the same number of observations over the same area for each product. \n",
    "\n",
    "Could you just use [dev explorer](https://explorer.dev.dea.ga.gov.au/products)? Yep you can... if its up... \n"
   ]
  },
  {
   "cell_type": "code",
   "execution_count": null,
   "id": "d71c917d-641c-4bfe-9f4c-89a30458e31d",
   "metadata": {
    "tags": []
   },
   "outputs": [],
   "source": [
    "import datacube\n",
    "from datacube.utils import masking\n",
    "import matplotlib.pyplot as plt\n",
    "\n",
    "import sys\n",
    "sys.path.insert(1, '../Tools/')\n",
    "from dea_tools.datahandling import wofs_fuser\n",
    "from dea_tools.plotting import plot_wo"
   ]
  },
  {
   "cell_type": "code",
   "execution_count": null,
   "id": "ba260c25-5743-4a6b-98fd-4e9004f493bc",
   "metadata": {
    "tags": []
   },
   "outputs": [],
   "source": [
    "dc = datacube.Datacube(env='dev')"
   ]
  },
  {
   "cell_type": "markdown",
   "id": "8ddcc966-47b4-44be-81b2-2c03fb77249f",
   "metadata": {},
   "source": [
    "### Water observations"
   ]
  },
  {
   "cell_type": "code",
   "execution_count": null,
   "id": "11714c8a-a052-4b08-8d92-37b30fa00fe9",
   "metadata": {
    "tags": []
   },
   "outputs": [],
   "source": [
    "# Set up a region to load data\n",
    "query = {\n",
    "    'y': (-35.25, -35.32),\n",
    "    'x': (149.05, 149.17),\n",
    "    'time': ('2024-01-01', '2024-05-01'),\n",
    "}\n",
    "\n",
    "# Load DEA Water Observations data from the datacube\n",
    "wo = dc.load(product='ga_ls_wo_3',\n",
    "             output_crs='EPSG:3577',\n",
    "             resolution=(-30, 30),\n",
    "             group_by='solar_day',\n",
    "             fuse_func=wofs_fuser,\n",
    "             platform='landsat-8',\n",
    "             **query)"
   ]
  },
  {
   "cell_type": "code",
   "execution_count": null,
   "id": "041e0545-6867-49fc-a124-67e3bbcaa064",
   "metadata": {
    "tags": []
   },
   "outputs": [],
   "source": [
    "wo"
   ]
  },
  {
   "cell_type": "markdown",
   "id": "3d294036-d7f1-4902-a963-e11c67377247",
   "metadata": {},
   "source": [
    "### Fractional cover\n",
    "Note we are filtering by platform. If you don't, you will see both Landsat 8 and 9 FC. "
   ]
  },
  {
   "cell_type": "code",
   "execution_count": null,
   "id": "880bb6d4-8387-4abc-9dc2-009bc28d94ff",
   "metadata": {
    "tags": []
   },
   "outputs": [],
   "source": [
    "# Set up a region to load data\n",
    "query = {\n",
    "    'y': (-35.25, -35.32),\n",
    "    'x': (149.05, 149.17),\n",
    "    'time': ('2024-01-01', '2024-05-01'),\n",
    "}\n",
    "\n",
    "\n",
    "# Load DEA Fractional Cover data from the datacube\n",
    "fc = dc.load(product='ga_ls_fc_3',\n",
    "             measurements=['bs', 'pv', 'npv', 'ue'],\n",
    "             output_crs='EPSG:32754',\n",
    "             resolution=(-30, 30),\n",
    "             group_by='solar_day',\n",
    "             platform='landsat-8',\n",
    "             **query)"
   ]
  },
  {
   "cell_type": "code",
   "execution_count": null,
   "id": "e1af7a13-f05f-4c14-97ed-333ed2865b7c",
   "metadata": {
    "tags": []
   },
   "outputs": [],
   "source": [
    "fc"
   ]
  },
  {
   "cell_type": "markdown",
   "id": "07bdcbcf-b1db-43d6-8a7d-989a3a70ccda",
   "metadata": {},
   "source": [
    "### Landsat 8 ARD "
   ]
  },
  {
   "cell_type": "code",
   "execution_count": null,
   "id": "a8d856e0-b1cc-476d-bc0f-a3d0776afe39",
   "metadata": {
    "tags": []
   },
   "outputs": [],
   "source": [
    "ls8_ds = dc.load(product='ga_ls8c_ard_3',\n",
    "                 measurements=[\n",
    "                     'nbart_red', 'nbart_green', 'nbart_blue', 'nbart_nir',\n",
    "                     'nbart_swir_1', 'nbart_swir_2', 'oa_fmask'\n",
    "                 ],\n",
    "                 x=(149.05, 149.17),\n",
    "                 y=(-35.25, -35.32),\n",
    "                 time=('2024-01-01', '2024-05-01'),\n",
    "                 group_by='solar_day')"
   ]
  },
  {
   "cell_type": "code",
   "execution_count": null,
   "id": "a777fe8a-d1db-4d01-9116-dec3790b612e",
   "metadata": {
    "tags": []
   },
   "outputs": [],
   "source": [
    "ls8_ds"
   ]
  },
  {
   "cell_type": "code",
   "execution_count": null,
   "id": "f82a1058-89ab-4d31-bb47-3931c216228a",
   "metadata": {},
   "outputs": [],
   "source": []
  },
  {
   "cell_type": "code",
   "execution_count": null,
   "id": "1401fafe-9356-4023-b7e4-88edd39093d4",
   "metadata": {},
   "outputs": [],
   "source": []
  },
  {
   "cell_type": "code",
   "execution_count": null,
   "id": "3ece0201-23b0-49fc-8018-a0c2e82d244a",
   "metadata": {},
   "outputs": [],
   "source": []
  },
  {
   "cell_type": "code",
   "execution_count": null,
   "id": "4eea081f-d424-4404-a6ef-23c6a342bb76",
   "metadata": {},
   "outputs": [],
   "source": []
  }
 ],
 "metadata": {
  "kernelspec": {
   "display_name": "Python 3 (ipykernel)",
   "language": "python",
   "name": "python3"
  },
  "language_info": {
   "codemirror_mode": {
    "name": "ipython",
    "version": 3
   },
   "file_extension": ".py",
   "mimetype": "text/x-python",
   "name": "python",
   "nbconvert_exporter": "python",
   "pygments_lexer": "ipython3",
   "version": "3.10.15"
  }
 },
 "nbformat": 4,
 "nbformat_minor": 5
}
