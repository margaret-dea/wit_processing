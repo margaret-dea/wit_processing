{
 "cells": [
  {
   "cell_type": "markdown",
   "id": "5a285798-d1c2-4125-9677-de0142cfbb5a",
   "metadata": {},
   "source": [
    "# Check the shapefile\n",
    "\n",
    "Looking for null geometries, invalid geometries, and overlaps in the shapefile."
   ]
  },
  {
   "cell_type": "code",
   "execution_count": 2,
   "id": "bb0a8f7f-dd8e-4f8f-8a71-75e7e1eea7ab",
   "metadata": {},
   "outputs": [],
   "source": [
    "import geopandas as gpd\n",
    "import s3fs\n",
    "from shapely.validation import explain_validity\n",
    "from shapely.geometry import Polygon\n",
    "import matplotlib.pyplot as plt\n",
    "import folium"
   ]
  },
  {
   "cell_type": "code",
   "execution_count": 3,
   "id": "fd13cf15-7f96-4cac-8de1-836b2296968e",
   "metadata": {},
   "outputs": [],
   "source": [
    "# set up S3 filesystem\n",
    "s3 = s3fs.S3FileSystem(anon=True) "
   ]
  },
  {
   "cell_type": "markdown",
   "id": "5f3ebe2c-545a-45cb-8948-bd230b4f9649",
   "metadata": {},
   "source": [
    "### Read in shapefile"
   ]
  },
  {
   "cell_type": "code",
   "execution_count": 4,
   "id": "54eec8c3-6e8c-402c-b690-d0a12bb78637",
   "metadata": {},
   "outputs": [
    {
     "name": "stdout",
     "output_type": "stream",
     "text": [
      "Shapefile loaded. Number of rows: 270653\n"
     ]
    }
   ],
   "source": [
    "# path to shapefile on S3\n",
    "s3_shapefile_path = \"s3://dea-public-data-dev/projects/WIT/BWS_MDBA_ANAE_WIT_05_2022/shp_file/ANAEv3_WIT_clean19042022/ANAEv3_WIT_clean.shp\"\n",
    "\n",
    "# load\n",
    "shapefile = gpd.read_file(s3_shapefile_path, engine='fiona')\n",
    "\n",
    "print(f\"Shapefile loaded. Number of rows: {len(shapefile)}\")"
   ]
  },
  {
   "cell_type": "code",
   "execution_count": 5,
   "id": "d8e29823-9c61-44aa-8005-a53dc4eb91eb",
   "metadata": {},
   "outputs": [
    {
     "data": {
      "text/html": [
       "<div>\n",
       "<style scoped>\n",
       "    .dataframe tbody tr th:only-of-type {\n",
       "        vertical-align: middle;\n",
       "    }\n",
       "\n",
       "    .dataframe tbody tr th {\n",
       "        vertical-align: top;\n",
       "    }\n",
       "\n",
       "    .dataframe thead th {\n",
       "        text-align: right;\n",
       "    }\n",
       "</style>\n",
       "<table border=\"1\" class=\"dataframe\">\n",
       "  <thead>\n",
       "    <tr style=\"text-align: right;\">\n",
       "      <th></th>\n",
       "      <th>UID</th>\n",
       "      <th>ANAE_TYPE</th>\n",
       "      <th>Area_Ha</th>\n",
       "      <th>geometry</th>\n",
       "    </tr>\n",
       "  </thead>\n",
       "  <tbody>\n",
       "    <tr>\n",
       "      <th>0</th>\n",
       "      <td>r1dtvqu5m</td>\n",
       "      <td>F4: Unspecified riparian zone or floodplain</td>\n",
       "      <td>3.972622</td>\n",
       "      <td>POLYGON ((611266.353 -3895503.720, 611256.319 ...</td>\n",
       "    </tr>\n",
       "    <tr>\n",
       "      <th>1</th>\n",
       "      <td>r1dtygfug</td>\n",
       "      <td>Pt2.1.2: Temporary tall emergent marsh</td>\n",
       "      <td>3.316279</td>\n",
       "      <td>POLYGON ((617367.374 -3897620.931, 617370.374 ...</td>\n",
       "    </tr>\n",
       "    <tr>\n",
       "      <th>2</th>\n",
       "      <td>r1dtyggsf</td>\n",
       "      <td>Etd1.2.1: Tide dominated saltmarsh</td>\n",
       "      <td>2.217581</td>\n",
       "      <td>POLYGON ((617038.183 -3897457.937, 617042.095 ...</td>\n",
       "    </tr>\n",
       "    <tr>\n",
       "      <th>3</th>\n",
       "      <td>r1dtyjqxg</td>\n",
       "      <td>Pt4.2: Temporary wetland</td>\n",
       "      <td>5.736414</td>\n",
       "      <td>POLYGON ((614794.869 -3896524.926, 614794.833 ...</td>\n",
       "    </tr>\n",
       "    <tr>\n",
       "      <th>4</th>\n",
       "      <td>r1dtyjxp1</td>\n",
       "      <td>Pt2.1.2: Temporary tall emergent marsh</td>\n",
       "      <td>4.490608</td>\n",
       "      <td>POLYGON ((614794.869 -3896524.926, 614784.178 ...</td>\n",
       "    </tr>\n",
       "    <tr>\n",
       "      <th>...</th>\n",
       "      <td>...</td>\n",
       "      <td>...</td>\n",
       "      <td>...</td>\n",
       "      <td>...</td>\n",
       "    </tr>\n",
       "    <tr>\n",
       "      <th>270648</th>\n",
       "      <td>r7hh7kxjv</td>\n",
       "      <td>Rt1.1: Temporary high energy upland stream</td>\n",
       "      <td>1.008318</td>\n",
       "      <td>POLYGON ((1949229.310 -3119406.198, 1949232.82...</td>\n",
       "    </tr>\n",
       "    <tr>\n",
       "      <th>270649</th>\n",
       "      <td>r7hh7m4fc</td>\n",
       "      <td>Rt1.1: Temporary high energy upland stream</td>\n",
       "      <td>2.508319</td>\n",
       "      <td>POLYGON ((1948684.816 -3119059.552, 1948649.94...</td>\n",
       "    </tr>\n",
       "    <tr>\n",
       "      <th>270650</th>\n",
       "      <td>r7hhdb24d</td>\n",
       "      <td>Rt1.1: Temporary high energy upland stream</td>\n",
       "      <td>3.858787</td>\n",
       "      <td>POLYGON ((1946809.814 -3116801.769, 1946769.42...</td>\n",
       "    </tr>\n",
       "    <tr>\n",
       "      <th>270651</th>\n",
       "      <td>r7hhdvgdj</td>\n",
       "      <td>Rt1.1: Temporary high energy upland stream</td>\n",
       "      <td>1.213341</td>\n",
       "      <td>POLYGON ((1947536.645 -3113549.088, 1947530.54...</td>\n",
       "    </tr>\n",
       "    <tr>\n",
       "      <th>270652</th>\n",
       "      <td>r7hhdzj8s</td>\n",
       "      <td>Rt1.1: Temporary high energy upland stream</td>\n",
       "      <td>1.294945</td>\n",
       "      <td>POLYGON ((1948009.821 -3112891.969, 1947999.51...</td>\n",
       "    </tr>\n",
       "  </tbody>\n",
       "</table>\n",
       "<p>270653 rows × 4 columns</p>\n",
       "</div>"
      ],
      "text/plain": [
       "              UID                                    ANAE_TYPE   Area_Ha  \\\n",
       "0       r1dtvqu5m  F4: Unspecified riparian zone or floodplain  3.972622   \n",
       "1       r1dtygfug       Pt2.1.2: Temporary tall emergent marsh  3.316279   \n",
       "2       r1dtyggsf           Etd1.2.1: Tide dominated saltmarsh  2.217581   \n",
       "3       r1dtyjqxg                     Pt4.2: Temporary wetland  5.736414   \n",
       "4       r1dtyjxp1       Pt2.1.2: Temporary tall emergent marsh  4.490608   \n",
       "...           ...                                          ...       ...   \n",
       "270648  r7hh7kxjv   Rt1.1: Temporary high energy upland stream  1.008318   \n",
       "270649  r7hh7m4fc   Rt1.1: Temporary high energy upland stream  2.508319   \n",
       "270650  r7hhdb24d   Rt1.1: Temporary high energy upland stream  3.858787   \n",
       "270651  r7hhdvgdj   Rt1.1: Temporary high energy upland stream  1.213341   \n",
       "270652  r7hhdzj8s   Rt1.1: Temporary high energy upland stream  1.294945   \n",
       "\n",
       "                                                 geometry  \n",
       "0       POLYGON ((611266.353 -3895503.720, 611256.319 ...  \n",
       "1       POLYGON ((617367.374 -3897620.931, 617370.374 ...  \n",
       "2       POLYGON ((617038.183 -3897457.937, 617042.095 ...  \n",
       "3       POLYGON ((614794.869 -3896524.926, 614794.833 ...  \n",
       "4       POLYGON ((614794.869 -3896524.926, 614784.178 ...  \n",
       "...                                                   ...  \n",
       "270648  POLYGON ((1949229.310 -3119406.198, 1949232.82...  \n",
       "270649  POLYGON ((1948684.816 -3119059.552, 1948649.94...  \n",
       "270650  POLYGON ((1946809.814 -3116801.769, 1946769.42...  \n",
       "270651  POLYGON ((1947536.645 -3113549.088, 1947530.54...  \n",
       "270652  POLYGON ((1948009.821 -3112891.969, 1947999.51...  \n",
       "\n",
       "[270653 rows x 4 columns]"
      ]
     },
     "execution_count": 5,
     "metadata": {},
     "output_type": "execute_result"
    }
   ],
   "source": [
    "shapefile"
   ]
  },
  {
   "cell_type": "code",
   "execution_count": 6,
   "id": "744078db-95fa-4c22-bb4a-84e01d85fff9",
   "metadata": {},
   "outputs": [
    {
     "data": {
      "text/plain": [
       "<Projected CRS: EPSG:3577>\n",
       "Name: GDA94 / Australian Albers\n",
       "Axis Info [cartesian]:\n",
       "- E[east]: Easting (metre)\n",
       "- N[north]: Northing (metre)\n",
       "Area of Use:\n",
       "- name: Australia - Australian Capital Territory; New South Wales; Northern Territory; Queensland; South Australia; Tasmania; Western Australia; Victoria.\n",
       "- bounds: (112.85, -43.7, 153.69, -9.86)\n",
       "Coordinate Operation:\n",
       "- name: Australian Albers\n",
       "- method: Albers Equal Area\n",
       "Datum: Geocentric Datum of Australia 1994\n",
       "- Ellipsoid: GRS 1980\n",
       "- Prime Meridian: Greenwich"
      ]
     },
     "execution_count": 6,
     "metadata": {},
     "output_type": "execute_result"
    }
   ],
   "source": [
    "shapefile.crs"
   ]
  },
  {
   "cell_type": "code",
   "execution_count": 7,
   "id": "231a1078-60d0-4305-81e4-b39c8dcc8e5a",
   "metadata": {},
   "outputs": [
    {
     "data": {
      "text/plain": [
       "True"
      ]
     },
     "execution_count": 7,
     "metadata": {},
     "output_type": "execute_result"
    }
   ],
   "source": [
    "# check UID is unique\n",
    "unique_id_column_name = \"UID\"\n",
    "len(shapefile[unique_id_column_name]) == len(set(shapefile[unique_id_column_name]))"
   ]
  },
  {
   "cell_type": "markdown",
   "id": "c4ac6b1f-0ca9-4125-be84-6298c01612a3",
   "metadata": {},
   "source": [
    "### Check for null geometries e.g. rows where the geometry is null"
   ]
  },
  {
   "cell_type": "code",
   "execution_count": 8,
   "id": "4d56f95a-1e96-4674-a511-541eb85f1de9",
   "metadata": {},
   "outputs": [
    {
     "name": "stdout",
     "output_type": "stream",
     "text": [
      "✅ No null geometries found.\n"
     ]
    }
   ],
   "source": [
    "null_geoms = shapefile[shapefile.geometry.isnull()]\n",
    "if not null_geoms.empty:\n",
    "    print(f\"❗ Rows with null geometries: {null_geoms.index.tolist()}\")\n",
    "else:\n",
    "    print(\"✅ No null geometries found.\")"
   ]
  },
  {
   "cell_type": "code",
   "execution_count": 9,
   "id": "c2d0756a-f96d-437f-9810-10f61f4dc135",
   "metadata": {},
   "outputs": [
    {
     "name": "stdout",
     "output_type": "stream",
     "text": [
      "Removed 0 rows with null geometries.\n"
     ]
    }
   ],
   "source": [
    "# remove any null geometries \n",
    "shapefile_cleaned = shapefile[shapefile.geometry.notnull()]\n",
    "print(f\"Removed {len(shapefile) - len(shapefile_cleaned)} rows with null geometries.\")"
   ]
  },
  {
   "cell_type": "markdown",
   "id": "f3fe73a6-90a3-4842-95e3-9fb14bf36189",
   "metadata": {},
   "source": [
    "### Check for invalid geometries e.g. self intersecting geometries"
   ]
  },
  {
   "cell_type": "code",
   "execution_count": 10,
   "id": "05445618-979b-4219-9890-02375775c0dd",
   "metadata": {},
   "outputs": [
    {
     "name": "stdout",
     "output_type": "stream",
     "text": [
      "❗ Found 103 invalid geometries.\n",
      " - UID r1dvdkh4n is invalid: Ring Self-intersection[616620.8884 -3897348.5196]\n",
      " - UID r1dvvs1z3 is invalid: Ring Self-intersection[642844.7095 -3899094.5659]\n",
      " - UID r1ehbstnr is invalid: Ring Self-intersection[654835.918900002 -3918711.1496]\n",
      " - UID r1guqts4s is invalid: Ring Self-intersection[783911.107500002 -3779124.8943]\n",
      " - UID r1tfzwdqx is invalid: Ring Self-intersection[1024539.3454 -3992301.2575]\n",
      " - UID r1uj0742d is invalid: Ring Self-intersection[791321.572299998 -3766319.6445]\n",
      " - UID r1un4pgvs is invalid: Ring Self-intersection[802685.8171 -3744969.6027]\n",
      " - UID r1urmbm7x is invalid: Ring Self-intersection[849084.671399999 -3728107.593]\n",
      " - UID r1utcekuh is invalid: Ring Self-intersection[862204.1538 -3756319.8586]\n",
      " - UID r1v745cjf is invalid: Ring Self-intersection[956435.158799998 -3816876.208]\n",
      " - UID r1ve34q75 is invalid: Ring Self-intersection[984773.8068 -3816785.8301]\n",
      " - UID r1w74kp6m is invalid: Ring Self-intersection[1072528.2993 -3983667.9275]\n",
      " - UID r1w7639vh is invalid: Ring Self-intersection[1071912.5205 -3979480.497]\n",
      " - UID r1wqbfrdh is invalid: Ring Self-intersection[1072043.9919 -3912256.4349]\n",
      " - UID r1wqgnms7 is invalid: Ring Self-intersection[1081355.2281 -3910171.8272]\n",
      " - UID r1xg2jphk is invalid: Ring Self-intersection[1252124.1324 -3997160.8102]\n",
      " - UID r1xk36tds is invalid: Ring Self-intersection[1195599.7228 -3972623.7871]\n",
      " - UID r1y0bxpv7 is invalid: Ring Self-intersection[1042872.4112 -3867299.5104]\n",
      " - UID r1y0by8p3 is invalid: Ring Self-intersection[1043173.2818 -3867741.048]\n",
      " - UID r1y0epf9c is invalid: Ring Self-intersection[1053351.1267 -3872078.0935]\n",
      " - UID r1y82nuww is invalid: Ring Self-intersection[1103490.4412 -3882913.2799]\n",
      " - UID r1ye3quqh is invalid: Ring Self-intersection[1115570.9612 -3824922.3318]\n",
      " - UID r1yhrccfp is invalid: Ring Self-intersection[1076307.2443 -3805274.9296]\n",
      " - UID r1ykp4wd1 is invalid: Ring Self-intersection[1107030.0813 -3813215.1444]\n",
      " - UID r1yvhse63 is invalid: Ring Self-intersection[1162109.2611 -3796057.3382]\n",
      " - UID r1zex91dr is invalid: Ring Self-intersection[1266512.6084 -3839281.8216]\n",
      " - UID r4jvwx62r is invalid: Ring Self-intersection[1056323.3367 -3616995.676]\n",
      " - UID r4n9jjdrr is invalid: Ring Self-intersection[1139300.4929 -3714156.6538]\n",
      " - UID r4p0fb69s is invalid: Ring Self-intersection[1194081.888 -3728536.7231]\n",
      " - UID r4p1jzrjd is invalid: Ring Self-intersection[1208449.7603 -3721153.0383]\n",
      " - UID r4qq1kttr is invalid: Ring Self-intersection[1116044.5902 -3456791.581]\n",
      " - UID r4qwxdv7j is invalid: Ring Self-intersection[1176011.3721 -3446046.011]\n",
      " - UID r4wsdycvr is invalid: Ring Self-intersection[1175144.5271 -3316684.3716]\n",
      " - UID r4wxr26vn is invalid: Ring Self-intersection[1190749.6686 -3283562.2322]\n",
      " - UID r4xq4eh87 is invalid: Ring Self-intersection[1267420.1857 -3310747.0914]\n",
      " - UID r4yc5h1x9 is invalid: Ring Self-intersection[1210190.0778 -3248056.8341]\n",
      " - UID r4ysg5ryg is invalid: Ring Self-intersection[1184115.0663 -3171790.7575]\n",
      " - UID r4z61uxgj is invalid: Ring Self-intersection[1260031.4738 -3244895.8382]\n",
      " - UID r4zcuufvr is invalid: Ring Self-intersection[1351196.5971 -3238778.8673]\n",
      " - UID r4zh9xr8s is invalid: Ring Self-intersection[1244968.1378 -3180557.9948]\n",
      " - UID r4zhxztm4 is invalid: Ring Self-intersection[1271716.6849 -3182785.9963]\n",
      " - UID r4znw24x4 is invalid: Ring Self-intersection[1268546.5072 -3147622.5182]\n",
      " - UID r4znwb2sn is invalid: Ring Self-intersection[1270046.7634 -3147557.1617]\n",
      " - UID r4zwyhud4 is invalid: Ring Self-intersection[1345611.0753 -3164932.1676]\n",
      " - UID r5pfm45mq is invalid: Ring Self-intersection[1372275.0906 -3087033.8862]\n",
      " - UID r5rcnpc93 is invalid: Ring Self-intersection[1386796.3085 -2960832.9201]\n",
      " - UID r5ru43dfu is invalid: Ring Self-intersection[1382127.0672 -2891258.4296]\n",
      " - UID r5rxufms9 is invalid: Ring Self-intersection[1360792.4434 -2806776.3339]\n",
      " - UID r618ccg0w is invalid: Ring Self-intersection[1512281.8869 -3764425.5027]\n",
      " - UID r62v6bqys is invalid: Ring Self-intersection[1449693.8332 -3509434.8347]\n",
      " - UID r63h9btg5 is invalid: Ring Self-intersection[1476748.7732 -3526813.5126]\n",
      " - UID r68jd6q2j is invalid: Ring Self-intersection[1366764.2724 -3335161.1353]\n",
      " - UID r68k4xt6f is invalid: Ring Self-intersection[1398014.9148 -3365339.0238]\n",
      " - UID r68qgxhp1 is invalid: Ring Self-intersection[1409231.9463 -3311879.3819]\n",
      " - UID r68s9yfpy is invalid: Ring Self-intersection[1429594.5762 -3359494.553]\n",
      " - UID r68u8uu83 is invalid: Ring Self-intersection[1458474.4651 -3364199.3027]\n",
      " - UID r68uy650x is invalid: Ring Self-intersection[1480834.2649 -3364170.5516]\n",
      " - UID r69pqvjf3 is invalid: Ring Self-intersection[1521087.5721 -3322497.4229]\n",
      " - UID r6b5f0tv2 is invalid: Ring Self-intersection[1389410.5937 -3207549.9351]\n",
      " - UID r6bdgpee7 is invalid: Ring Self-intersection[1449380.6231 -3237371.5618]\n",
      " - UID r6bjq7pp0 is invalid: Ring Self-intersection[1406320.2477 -3191759.6286]\n",
      " - UID r6br9efmu is invalid: Ring Self-intersection[1417634.756 -3144542.2199]\n",
      " - UID r6cc1962x is invalid: Ring Self-intersection[1604552.5391 -3294801.4194]\n",
      " - UID r6cmt6y9f is invalid: Ring Self-intersection[1565932.2984 -3201344.5835]\n",
      " - UID r6cx7wy8x is invalid: Ring Self-intersection[1597642.8405 -3167085.3758]\n",
      " - UID r6cxuu3sy is invalid: Ring Self-intersection[1603974.4443 -3159970.9729]\n",
      " - UID r6czkjf3w is invalid: Ring Self-intersection[1621824.414 -3207237.6044]\n",
      " - UID r6dgwq243 is invalid: Ring Self-intersection[1744730.5972 -3420990.8955]\n",
      " - UID r6dnu7rpn is invalid: Ring Self-intersection[1645345.7684 -3344825.2051]\n",
      " - UID r6dvhvqj3 is invalid: Ring Self-intersection[1742072.1613 -3391883.5105]\n",
      " - UID r6f6gcj02 is invalid: Ring Self-intersection[1685939.4247 -3272089.2186]\n",
      " - UID r6fhex4yk is invalid: Ring Self-intersection[1651549.216 -3237062.026]\n",
      " - UID r6fjp6duf is invalid: Ring Self-intersection[1679659.2787 -3220820.3074]\n",
      " - UID r6fm7jwkn is invalid: Ring Self-intersection[1690624.2384 -3219955.1877]\n",
      " - UID r6fmx9zw6 is invalid: Ring Self-intersection[1710419.7768 -3220519.3667]\n",
      " - UID r6ft2b0d2 is invalid: Ring Self-intersection[1715241.9993 -3226654.7481]\n",
      " - UID r6ft877v2 is invalid: Ring Self-intersection[1713397.3351 -3219719.4975]\n",
      " - UID r6fvsgzzm is invalid: Ring Self-intersection[1767014.7132 -3226874.6149]\n",
      " - UID r6fw2f263 is invalid: Ring Self-intersection[1718513.9356 -3206154.4779]\n",
      " - UID r6fw6tx1y is invalid: Ring Self-intersection[1725247.2343 -3204823.4334]\n",
      " - UID r6fy5f85k is invalid: Ring Self-intersection[1762821.3989 -3216941.1782]\n",
      " - UID r6ghcyht6 is invalid: Ring Self-intersection[1785443.4902 -3243155.2306]\n",
      " - UID r6gmpk9tn is invalid: Ring Self-intersection[1842325.1243 -3247840.992]\n",
      " - UID r6gn18y6k is invalid: Ring Self-intersection[1787898.1433 -3221862.9187]\n",
      " - UID r6gqk39yg is invalid: Ring Self-intersection[1833108.4512 -3223377.9656]\n",
      " - UID r700h0vtj is invalid: Ring Self-intersection[1395601.4831 -3130389.1772]\n",
      " - UID r7011kjcf is invalid: Ring Self-intersection[1389012.3135 -3108506.9891]\n",
      " - UID r701zncmn is invalid: Ring Self-intersection[1415246.6359 -3094141.4255]\n",
      " - UID r704qgg9r is invalid: Ring Self-intersection[1414418.8234 -3086877.6523]\n",
      " - UID r70k09yxc is invalid: Ring Self-intersection[1425892.0389 -3055532.0463]\n",
      " - UID r719ewk5r is invalid: Ring Self-intersection[1601802.2936 -3123280.2986]\n",
      " - UID r71g6qygg is invalid: Ring Self-intersection[1637283.1395 -3091423.0198]\n",
      " - UID r71k5pcxq is invalid: Ring Self-intersection[1573046.8581 -3068472.5305]\n",
      " - UID r71zjg9e9 is invalid: Ring Self-intersection[1660384.0291 -3023195.3797]\n",
      " - UID r743n5986 is invalid: Ring Self-intersection[1713330.173 -3150217.5722]\n",
      " - UID r743n68vc is invalid: Ring Self-intersection[1714533.5537 -3150650.3669]\n",
      " - UID r74j8z8b0 is invalid: Ring Self-intersection[1669844.1161 -3051649.9458]\n",
      " - UID r74jb19qv is invalid: Ring Self-intersection[1666446.8359 -3050090.8461]\n",
      " - UID r74s19648 is invalid: Ring Self-intersection[1737834.1392 -3092216.5202]\n",
      " - UID r74tc2u9f is invalid: Ring Self-intersection[1739800.3768 -3060988.0513]\n",
      " - UID r74wrrqpx is invalid: Ring Self-intersection[1768157.193 -3050464.7195]\n",
      " - UID r75dkq17b is invalid: Ring Self-intersection[1878682.9538 -3147856.3859]\n",
      " - UID r769pmh0k is invalid: Ring Self-intersection[1775328.0502 -2998485.2217]\n"
     ]
    }
   ],
   "source": [
    "invalid_geoms = shapefile_cleaned[~shapefile_cleaned.is_valid]\n",
    "\n",
    "if not invalid_geoms.empty:\n",
    "    print(f\"❗ Found {len(invalid_geoms)} invalid geometries.\")\n",
    "    \n",
    "    for idx, row in invalid_geoms.iterrows():\n",
    "        uid = row[\"UID\"]  \n",
    "        reason = explain_validity(row.geometry)\n",
    "        print(f\" - UID {uid} is invalid: {reason}\")\n",
    "else:\n",
    "    print(\"✅ All remaining geometries are valid.\")"
   ]
  },
  {
   "cell_type": "code",
   "execution_count": 11,
   "id": "795eb784-ab94-4676-ae25-9662fb649e1c",
   "metadata": {},
   "outputs": [
    {
     "name": "stdout",
     "output_type": "stream",
     "text": [
      "Remaining rows after cleaning: 270550\n"
     ]
    }
   ],
   "source": [
    "# remove invalid geometries\n",
    "shapefile_cleaned = shapefile_cleaned[shapefile_cleaned.is_valid]\n",
    "print(f\"Remaining rows after cleaning: {len(shapefile_cleaned)}\")"
   ]
  },
  {
   "cell_type": "markdown",
   "id": "b83fdfae-16f0-4bf2-81b9-680bab618d27",
   "metadata": {},
   "source": [
    "### Check for intersecting polygons \n",
    "We remove null or invalid geometries because testing for intersections could result in weird results.\n",
    "\n",
    "This code\n",
    "1. creates a spatial index (e.g. spatial look up table) based on the bounding boxes of the geometries. this means you can quickly filter out geometries that are near another without checking every one manually.\n",
    "2. it then finds possible overlaps using the bounding boxes, which is much faster than checking the actual shapes\n",
    "3. it then checks for real overlaps using intersect, touches is used to exclude features that only touch at a point or line which is not technically an overlap\n",
    "4. records the UIDs of overlapping pairs"
   ]
  },
  {
   "cell_type": "code",
   "execution_count": 14,
   "id": "621e6c92-e5db-47f0-a761-8a0668fc39c4",
   "metadata": {},
   "outputs": [
    {
     "name": "stdout",
     "output_type": "stream",
     "text": [
      "❗ Found 44 overlapping UID pairs.\n",
      " - r1dvcwur6 overlaps with r1dyq4xpv\n",
      " - r1dwnvrtu overlaps with r1dwpvmtd\n",
      " - r1dwpvmtd overlaps with r1dy0jxgk\n",
      " - r1dy632dn overlaps with r1dyq4xpv\n",
      " - r1dy6qbkv overlaps with r1dyq4xpv\n",
      " - r1epf61zy overlaps with r1epsb3cp\n",
      " - r1g4r71z2 overlaps with r1g4rk8t7\n",
      " - r1g4r752g overlaps with r1g4rk8t7\n",
      " - r1g4rk8t7 overlaps with r1g4rxk1d\n",
      " - r1g4xbxzg overlaps with r1g6811c0\n",
      " - r1g727wce overlaps with r1g72sjn5\n",
      " - r1g72u997 overlaps with r1g72y2sw\n",
      " - r1g789b0p overlaps with r1g78chp1\n",
      " - r1gm39sc6 overlaps with r1gm3egu8\n",
      " - r1gmd52n0 overlaps with r1gmf6x3e\n",
      " - r1gmf6x3e overlaps with r1gmfknh5\n",
      " - r1gmf6x3e overlaps with r1gmfqk8y\n",
      " - r1gtbsgtq overlaps with r1gw08kde\n",
      " - r1gtbstzm overlaps with r1gtbveyx\n",
      " - r1gtbtvze overlaps with r1gw08kde\n",
      " - r1gtbtw7g overlaps with r1gw08kde\n",
      " - r1gtbty9h overlaps with r1gw08kde\n",
      " - r1gtbwyy1 overlaps with r1gw08kde\n",
      " - r1gtbxjr6 overlaps with r1gw08kde\n",
      " - r1gtbxur1 overlaps with r1gw08kde\n",
      " - r1gtbz31s overlaps with r1gw08kde\n",
      " - r1gtbz8v7 overlaps with r1gw08kde\n",
      " - r1gufs07z overlaps with r1guft7je\n",
      " - r1gujdg6b overlaps with r1gunp9ws\n",
      " - r1guxnzz8 overlaps with r1guxpn0j\n",
      " - r1gw03p0p overlaps with r1gw08kde\n",
      " - r1gw03qzq overlaps with r1gw08kde\n",
      " - r1gw05vw4 overlaps with r1gw08kde\n",
      " - r1gw06cdz overlaps with r1gw08kde\n",
      " - r1gw08kde overlaps with r1gw0d3mc\n",
      " - r1gw08kde overlaps with r1gw0d657\n",
      " - r1gw08kde overlaps with r1gw0dfey\n",
      " - r1gw08kde overlaps with r1gw0dmgm\n",
      " - r1gw08kde overlaps with r1gw0dsd7\n",
      " - r1gw08kde overlaps with r1gw0hecw\n",
      " - r1uj429nj overlaps with r1uj4hpre\n",
      " - r1uj4r4u1 overlaps with r1uj685nd\n",
      " - r1uj7rxjp overlaps with r1uje2jhr\n",
      " - r1x56qu1x overlaps with r1x59b7h2\n"
     ]
    }
   ],
   "source": [
    "# build spatial index for fast lookup\n",
    "sindex = shapefile_cleaned.sindex\n",
    "\n",
    "overlap_pairs = set()\n",
    "\n",
    "# loop through each geometry and compare it to potential overlaps\n",
    "for idx, geom in shapefile_cleaned.geometry.items():\n",
    "    if geom is None or geom.is_empty:\n",
    "        continue  # skip if geometry is missing or empty\n",
    "\n",
    "    # get possible matches using bounding boxes\n",
    "    possible_matches_index = list(sindex.intersection(geom.bounds))\n",
    "    \n",
    "    # filter to actual overlaps (excluding itself)\n",
    "    for match_idx in possible_matches_index:\n",
    "        if idx >= match_idx:\n",
    "            continue  # avoid duplicates and self\n",
    "\n",
    "        other_geom = shapefile_cleaned.geometry.iloc[match_idx]\n",
    "        if other_geom is None or other_geom.is_empty:\n",
    "            continue\n",
    "\n",
    "        if geom.intersects(other_geom) and not geom.touches(other_geom):\n",
    "            # record a sorted tuple to prevent duplicatepairings (e.g., (a, b) vs (b, a))\n",
    "            uid1 = shapefile_cleaned.loc[idx, \"UID\"]\n",
    "            uid2 = shapefile_cleaned.iloc[match_idx][\"UID\"]\n",
    "            overlap_pairs.add(tuple(sorted((uid1, uid2))))\n",
    "\n",
    "#  results\n",
    "if overlap_pairs:\n",
    "    print(f\"❗ Found {len(overlap_pairs)} overlapping UID pairs.\")\n",
    "    for pair in sorted(overlap_pairs):\n",
    "        print(f\" - {pair[0]} overlaps with {pair[1]}\")\n",
    "else:\n",
    "    print(\"✅ No overlapping geometries found.\")"
   ]
  },
  {
   "cell_type": "markdown",
   "id": "faf9d7a7-8aa1-4cf8-aa92-b4b56ed17550",
   "metadata": {},
   "source": [
    "Running the code on the non-cleaned shapefile to see what happens"
   ]
  },
  {
   "cell_type": "code",
   "execution_count": 15,
   "id": "924eba21-8b79-41d8-9dff-5eec5ada0ccd",
   "metadata": {},
   "outputs": [
    {
     "name": "stdout",
     "output_type": "stream",
     "text": [
      "❗ Found 61 overlapping UID pairs.\n",
      " - r1dvcwur6 overlaps with r1dyq4xpv\n",
      " - r1dwnvrtu overlaps with r1dwpvmtd\n",
      " - r1dwpvmtd overlaps with r1dy0jxgk\n",
      " - r1dy632dn overlaps with r1dyq4xpv\n",
      " - r1dy6qbkv overlaps with r1dyq4xpv\n",
      " - r1epf61zy overlaps with r1epsb3cp\n",
      " - r1g01tjpb overlaps with r1g01ud2n\n",
      " - r1g4r71z2 overlaps with r1g4rk8t7\n",
      " - r1g4r752g overlaps with r1g4rk8t7\n",
      " - r1g4rk8t7 overlaps with r1g4rkfwk\n",
      " - r1g4rk8t7 overlaps with r1g4rmfx9\n",
      " - r1g4rk8t7 overlaps with r1g4rxk1d\n",
      " - r1g4xbxzg overlaps with r1g6811c0\n",
      " - r1g727wce overlaps with r1g72sjn5\n",
      " - r1g72u997 overlaps with r1g72y2sw\n",
      " - r1g789b0p overlaps with r1g78chp1\n",
      " - r1gm39sc6 overlaps with r1gm3egu8\n",
      " - r1gmd52n0 overlaps with r1gmf6x3e\n",
      " - r1gmf6x3e overlaps with r1gmfknh5\n",
      " - r1gmf6x3e overlaps with r1gmfqk8y\n",
      " - r1gtbsgtq overlaps with r1gw08kde\n",
      " - r1gtbstzm overlaps with r1gtbveyx\n",
      " - r1gtbtvze overlaps with r1gw08kde\n",
      " - r1gtbtw7g overlaps with r1gw08kde\n",
      " - r1gtbty9h overlaps with r1gw08kde\n",
      " - r1gtbwyy1 overlaps with r1gw08kde\n",
      " - r1gtbxjr6 overlaps with r1gw08kde\n",
      " - r1gtbxur1 overlaps with r1gw08kde\n",
      " - r1gtbz31s overlaps with r1gw08kde\n",
      " - r1gtbz8v7 overlaps with r1gw08kde\n",
      " - r1gufs07z overlaps with r1guft7je\n",
      " - r1gujdg6b overlaps with r1gunp9ws\n",
      " - r1guxnzz8 overlaps with r1guxpn0j\n",
      " - r1gw03p0p overlaps with r1gw08kde\n",
      " - r1gw03qzq overlaps with r1gw08kde\n",
      " - r1gw05vw4 overlaps with r1gw08kde\n",
      " - r1gw06cdz overlaps with r1gw08kde\n",
      " - r1gw08kde overlaps with r1gw0d3mc\n",
      " - r1gw08kde overlaps with r1gw0d657\n",
      " - r1gw08kde overlaps with r1gw0dfey\n",
      " - r1gw08kde overlaps with r1gw0dmgm\n",
      " - r1gw08kde overlaps with r1gw0dsd7\n",
      " - r1gw08kde overlaps with r1gw0hecw\n",
      " - r1uhbc5u2 overlaps with r1uhbd68x\n",
      " - r1uj429nj overlaps with r1uj4hpre\n",
      " - r1uj45per overlaps with r1uj46beg\n",
      " - r1uj4r4u1 overlaps with r1uj685nd\n",
      " - r1uj7rxjp overlaps with r1uje2jhr\n",
      " - r1w7639vh overlaps with r1w76dgdd\n",
      " - r1w7639vh overlaps with r1w76t133\n",
      " - r1x56qu1x overlaps with r1x59b7h2\n",
      " - r384hsz2j overlaps with r384jb53n\n",
      " - r4xq4eh87 overlaps with r4xq60u0q\n",
      " - r4xvs39ys overlaps with r4xvs6wsz\n",
      " - r4xvs6wsz overlaps with r4xvsd21y\n",
      " - r5pu07m52 overlaps with r5rcnpc93\n",
      " - r69pnktgw overlaps with r69pqvjf3\n",
      " - r69pnnk4j overlaps with r69pqvjf3\n",
      " - r6cc10zpc overlaps with r6cc1962x\n",
      " - r6f6ez83m overlaps with r6f6gcj02\n",
      " - r718t6vp3 overlaps with r718te3rh\n"
     ]
    }
   ],
   "source": [
    "# build spatial index for fast lookup\n",
    "sindex = shapefile.sindex\n",
    "\n",
    "overlap_pairs = set()\n",
    "\n",
    "# loop through each geometry and compare it to potential overlaps\n",
    "for idx, geom in shapefile.geometry.items():\n",
    "    if geom is None or geom.is_empty:\n",
    "        continue  # skip if geometry is missing or empty\n",
    "\n",
    "    # get possible matches using bounding boxes\n",
    "    possible_matches_index = list(sindex.intersection(geom.bounds))\n",
    "    \n",
    "    # filter to actual overlaps (excluding itself)\n",
    "    for match_idx in possible_matches_index:\n",
    "        if idx >= match_idx:\n",
    "            continue  # avoid duplicates and self\n",
    "\n",
    "        other_geom = shapefile.geometry.iloc[match_idx]\n",
    "        if other_geom is None or other_geom.is_empty:\n",
    "            continue\n",
    "\n",
    "        if geom.intersects(other_geom) and not geom.touches(other_geom):\n",
    "            # record a sorted tuple to prevent duplicate pairings (e.g., (a, b) vs (b, a))\n",
    "            uid1 = shapefile.loc[idx, \"UID\"]\n",
    "            uid2 = shapefile.iloc[match_idx][\"UID\"]\n",
    "            overlap_pairs.add(tuple(sorted((uid1, uid2))))\n",
    "\n",
    "#  results\n",
    "if overlap_pairs:\n",
    "    print(f\"❗ Found {len(overlap_pairs)} overlapping UID pairs.\")\n",
    "    for pair in sorted(overlap_pairs):\n",
    "        print(f\" - {pair[0]} overlaps with {pair[1]}\")\n",
    "else:\n",
    "    print(\"✅ No overlapping geometries found.\")"
   ]
  },
  {
   "cell_type": "code",
   "execution_count": null,
   "id": "dcdcb48c-a705-4434-8c65-3569dea52cbe",
   "metadata": {},
   "outputs": [],
   "source": []
  },
  {
   "cell_type": "code",
   "execution_count": null,
   "id": "2ab18611-9ee2-4c79-ba09-09c376d01312",
   "metadata": {},
   "outputs": [],
   "source": []
  },
  {
   "cell_type": "code",
   "execution_count": null,
   "id": "e8015126-fa79-4169-a88e-8f5492cfaa01",
   "metadata": {},
   "outputs": [],
   "source": []
  },
  {
   "cell_type": "code",
   "execution_count": null,
   "id": "b5dac549-65a8-46d7-95cf-6ae3ea96ab40",
   "metadata": {},
   "outputs": [],
   "source": []
  },
  {
   "cell_type": "code",
   "execution_count": null,
   "id": "be262862-d5ed-417b-85ad-63a6c7c87d7a",
   "metadata": {},
   "outputs": [],
   "source": []
  }
 ],
 "metadata": {
  "kernelspec": {
   "display_name": "Python 3 (ipykernel)",
   "language": "python",
   "name": "python3"
  },
  "language_info": {
   "codemirror_mode": {
    "name": "ipython",
    "version": 3
   },
   "file_extension": ".py",
   "mimetype": "text/x-python",
   "name": "python",
   "nbconvert_exporter": "python",
   "pygments_lexer": "ipython3",
   "version": "3.10.15"
  }
 },
 "nbformat": 4,
 "nbformat_minor": 5
}
