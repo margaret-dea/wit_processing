{
 "cells": [
  {
   "cell_type": "markdown",
   "id": "1f567c70-8a37-498f-a7ac-05db284f561a",
   "metadata": {},
   "source": [
    "# Move files around\n",
    "This is much faster than using the website and when you can't get on the cli"
   ]
  },
  {
   "cell_type": "code",
   "execution_count": 9,
   "id": "f2605f04-8db9-4d92-9e0f-39d2db253095",
   "metadata": {},
   "outputs": [],
   "source": [
    "import boto3\n",
    "import pandas as pd\n",
    "from io import StringIO\n",
    "from tqdm import tqdm\n",
    "from concurrent.futures import ThreadPoolExecutor, as_completed\n"
   ]
  },
  {
   "cell_type": "code",
   "execution_count": 10,
   "id": "7d715c8b-b62b-4eac-83f6-43bc4b30a509",
   "metadata": {},
   "outputs": [],
   "source": [
    "temp_aws_access_key_id=\"\"\n",
    "temp_aws_secret_access_key=\"\"\n",
    "temp_aws_session_token=\"\""
   ]
  },
  {
   "cell_type": "code",
   "execution_count": 11,
   "id": "4c123c7e-2448-46be-bbbb-dd56e927a23a",
   "metadata": {},
   "outputs": [],
   "source": [
    "s3_client  = boto3.client('s3', aws_access_key_id=temp_aws_access_key_id,\n",
    "                      aws_secret_access_key=temp_aws_secret_access_key, \n",
    "                 aws_session_token=temp_aws_session_token)"
   ]
  },
  {
   "cell_type": "code",
   "execution_count": 17,
   "id": "2ed9fc17-36a8-4642-8832-5a84018716b0",
   "metadata": {},
   "outputs": [],
   "source": [
    "# S3 paths\n",
    "bucket_name = 'dea-public-data-dev'\n",
    "source_prefix = 'projects/WIT/ANAEv3_WIT_result_19042025/'\n",
    "destination_prefix = 'projects/WIT/MDBA_ANAE_WIT_MH_18_04_2025/merged/'"
   ]
  },
  {
   "cell_type": "code",
   "execution_count": 18,
   "id": "1e05c9fb-0f1a-4b43-8030-4e25740ab939",
   "metadata": {},
   "outputs": [
    {
     "name": "stdout",
     "output_type": "stream",
     "text": [
      "Found 270653 files to move.\n"
     ]
    },
    {
     "name": "stderr",
     "output_type": "stream",
     "text": [
      "Moving files: 100%|██████████| 270653/270653 [18:46<00:00, 240.19it/s]\n"
     ]
    }
   ],
   "source": [
    "# Paginate through all files\n",
    "all_objects = []\n",
    "continuation_token = None\n",
    "\n",
    "while True:\n",
    "    list_kwargs = {\n",
    "        'Bucket': bucket_name,\n",
    "        'Prefix': source_prefix,\n",
    "        'MaxKeys': 1000,\n",
    "    }\n",
    "    if continuation_token:\n",
    "        list_kwargs['ContinuationToken'] = continuation_token\n",
    "\n",
    "    response = s3_client.list_objects_v2(**list_kwargs)\n",
    "    all_objects.extend(response.get('Contents', []))\n",
    "\n",
    "    if response.get('IsTruncated'):  # more pages\n",
    "        continuation_token = response.get('NextContinuationToken')\n",
    "    else:\n",
    "        break\n",
    "\n",
    "print(f\"Found {len(all_objects)} files to move.\")\n",
    "\n",
    "# Function to copy and delete a single object\n",
    "def move_object(obj):\n",
    "    source_key = obj['Key']\n",
    "    destination_key = source_key.replace(source_prefix, destination_prefix, 1)\n",
    "\n",
    "    copy_source = {'Bucket': bucket_name, 'Key': source_key}\n",
    "\n",
    "    try:\n",
    "        s3_client.copy_object(Bucket=bucket_name, CopySource=copy_source, Key=destination_key)\n",
    "        s3_client.delete_object(Bucket=bucket_name, Key=source_key)\n",
    "        return f\"Moved: {source_key} → {destination_key}\"\n",
    "    except Exception as e:\n",
    "        return f\"Failed: {source_key} — {str(e)}\"\n",
    "\n",
    "# Parallel execution with progress bar\n",
    "max_workers = 40\n",
    "\n",
    "with ThreadPoolExecutor(max_workers=max_workers) as executor:\n",
    "    futures = {executor.submit(move_object, obj): obj for obj in all_objects}\n",
    "\n",
    "    for future in tqdm(as_completed(futures), total=len(futures), desc=\"Moving files\"):\n",
    "        result = future.result()\n",
    "        # Optional: print(result)"
   ]
  },
  {
   "cell_type": "code",
   "execution_count": null,
   "id": "81922b40-aa91-45f0-b245-f232da592922",
   "metadata": {},
   "outputs": [],
   "source": []
  },
  {
   "cell_type": "code",
   "execution_count": null,
   "id": "1b07c26a-5bf4-427c-b698-9042401bc7d8",
   "metadata": {},
   "outputs": [],
   "source": []
  }
 ],
 "metadata": {
  "kernelspec": {
   "display_name": "Python 3 (ipykernel)",
   "language": "python",
   "name": "python3"
  },
  "language_info": {
   "codemirror_mode": {
    "name": "ipython",
    "version": 3
   },
   "file_extension": ".py",
   "mimetype": "text/x-python",
   "name": "python",
   "nbconvert_exporter": "python",
   "pygments_lexer": "ipython3",
   "version": "3.10.15"
  }
 },
 "nbformat": 4,
 "nbformat_minor": 5
}
